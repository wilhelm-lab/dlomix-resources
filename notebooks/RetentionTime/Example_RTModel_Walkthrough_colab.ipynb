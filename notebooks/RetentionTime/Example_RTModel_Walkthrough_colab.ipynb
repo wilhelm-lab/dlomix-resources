{
 "cells": [
  {
   "cell_type": "markdown",
   "metadata": {
    "id": "7YWkUVjVr7qJ"
   },
   "source": [
    "# Retention Time Preidiction \n",
    "\n",
    "This notebook is prepared to be run in Google [Colaboratory](https://colab.research.google.com/). In order to train the model faster, please change the runtime of Colab to use Hardware Accelerator, either GPU or TPU."
   ]
  },
  {
   "cell_type": "markdown",
   "metadata": {
    "id": "S3DlTOq3r7qM"
   },
   "source": [
    "This notebook presents a short walkthrough the process of reading a dataset and training a model for retention time prediction. The dataset is an example dataset extracted from a ProteomTools dataset generated in the **Chair of Bioanalytics** at the **Technical University of Munich**.\n",
    "\n",
    "The framework being used is a custom wrapper on top of Keras/TensorFlow. The working name of the package is for now DLOmix -  `dlomix`."
   ]
  },
  {
   "cell_type": "code",
   "execution_count": null,
   "metadata": {
    "colab": {
     "base_uri": "https://localhost:8080/"
    },
    "id": "aO-69zbKsGey",
    "outputId": "2d7f5f84-aa06-4ec7-9a2b-c1f546031baf",
    "scrolled": true
   },
   "outputs": [
    {
     "name": "stdout",
     "output_type": "stream",
     "text": [
      "  Building wheel for dlomix (setup.py) ... \u001b[?25l\u001b[?25hdone\n"
     ]
    }
   ],
   "source": [
    "# install the DLOmix package in the current environment using pip\n",
    "\n",
    "!python -m pip install -q dlomix==0.0.3"
   ]
  },
  {
   "cell_type": "code",
   "execution_count": null,
   "metadata": {},
   "outputs": [],
   "source": [
    "!python -m pip install -q wandb"
   ]
  },
  {
   "cell_type": "markdown",
   "metadata": {
    "id": "Mo7H9qzWr7qN"
   },
   "source": [
    "The available modules in the framework are as follows:"
   ]
  },
  {
   "cell_type": "code",
   "execution_count": null,
   "metadata": {
    "colab": {
     "base_uri": "https://localhost:8080/"
    },
    "id": "l0CS0tFur7qN",
    "outputId": "16c0f94a-97ab-4445-ef6b-4ac28029e64d"
   },
   "outputs": [
    {
     "name": "stdout",
     "output_type": "stream",
     "text": [
      "['constants', 'data', 'eval', 'layers', 'models', 'pipelines', 'reports', 'utils']\n"
     ]
    }
   ],
   "source": [
    "import numpy as np\n",
    "import pandas as pd\n",
    "import dlomix\n",
    "from dlomix import constants, data, eval, layers, models, pipelines, reports, utils\n",
    "print([x for x in dir(dlomix) if not x.startswith(\"_\")])"
   ]
  },
  {
   "cell_type": "markdown",
   "metadata": {
    "id": "JsgPZb_Mr7qP"
   },
   "source": [
    "- `constants`: constants to be used in the framework (e.g. Aminoacid alphabet mapping)\n",
    "- `data`:  classes for representing dataset, wrappers around TensorFlow Dataset\n",
    "- `eval`: custom evaluation metrics implemented in Keras/TF to work as `metrics` for model training\n",
    "- `layers`: custom layer implementation required for the different models\n",
    "- `models`: different model implementations for Retention Time Prediction\n",
    "- `pipelines`: complete pipelines to run a task (e.g. Retention Time prediction)\n",
    "- `utils`: helper modules\n",
    "\n",
    "**Note**: reports and pipelines are work-in-progress, some funtionalities are not complete."
   ]
  },
  {
   "cell_type": "code",
   "execution_count": null,
   "metadata": {},
   "outputs": [],
   "source": [
    "# enter project name for weights and biases\n",
    "project_name = 'dlomix_retention_time'"
   ]
  },
  {
   "cell_type": "markdown",
   "metadata": {
    "id": "41qXroyKr7qP"
   },
   "source": [
    "## 1. Load Data\n",
    "\n",
    "We can import the dataset class and create an object of type `RetentionTimeDataset`. This object wraps around TensorFlow dataset objects for training+validation or for testing. This can be specified by the arguments `val_ratio` and `test`."
   ]
  },
  {
   "cell_type": "code",
   "execution_count": null,
   "metadata": {
    "id": "RiXz_epEr7qQ"
   },
   "outputs": [],
   "source": [
    "from dlomix.data import RetentionTimeDataset"
   ]
  },
  {
   "cell_type": "code",
   "execution_count": null,
   "metadata": {
    "id": "lzNXJ-s6r7qQ"
   },
   "outputs": [],
   "source": [
    "TRAIN_DATAPATH = 'https://raw.githubusercontent.com/wilhelm-lab/dlomix-resources/main/example_datasets/RetentionTime/proteomeTools_train_val.csv'\n",
    "BATCH_SIZE = 64\n",
    "\n",
    "rtdata = RetentionTimeDataset(data_source=TRAIN_DATAPATH,\n",
    "                              seq_length=30, batch_size=BATCH_SIZE, val_ratio=0.2, test=False)"
   ]
  },
  {
   "cell_type": "markdown",
   "metadata": {
    "id": "_UUzvcHGr7qR"
   },
   "source": [
    "Now we have an RT dataset that can be used directly with standard or custom `Keras` models. This wrapper contains the splits we chose when creating it. In our case, they are training and validation splits. To get the TF Dataset, we call the attributes `.train_data` and `.val_data`. The length is now in batches (i.e. `total examples = batch_size x len`)"
   ]
  },
  {
   "cell_type": "code",
   "execution_count": null,
   "metadata": {
    "colab": {
     "base_uri": "https://localhost:8080/"
    },
    "id": "y1l6YedCr7qS",
    "outputId": "16a1d57b-7720-4cb1-cdea-a32d9d2c3804"
   },
   "outputs": [
    {
     "data": {
      "text/plain": [
       "('Training examples', 27136)"
      ]
     },
     "execution_count": 5,
     "metadata": {},
     "output_type": "execute_result"
    }
   ],
   "source": [
    " \"Training examples\", BATCH_SIZE * len(rtdata.train_data)"
   ]
  },
  {
   "cell_type": "code",
   "execution_count": null,
   "metadata": {
    "colab": {
     "base_uri": "https://localhost:8080/"
    },
    "id": "uEnVWjtRr7qT",
    "outputId": "95550088-76c5-4f1b-8181-dddb942d94b0"
   },
   "outputs": [
    {
     "data": {
      "text/plain": [
       "('Validation examples', 6784)"
      ]
     },
     "execution_count": 6,
     "metadata": {},
     "output_type": "execute_result"
    }
   ],
   "source": [
    "\"Validation examples\", BATCH_SIZE * len(rtdata.val_data)"
   ]
  },
  {
   "cell_type": "markdown",
   "metadata": {
    "id": "oWeVi0iar7qT"
   },
   "source": [
    "## 2. Model\n",
    "\n",
    "We can now create the model. We will use a simple Prediction with a conv1D encoder. It has the default working arguments, but most of the parameters can be customized.\n",
    "\n",
    "**Note**: Important is to ensure that the padding length used for the dataset object is equal to the sequence length passed to the model."
   ]
  },
  {
   "cell_type": "code",
   "execution_count": null,
   "metadata": {
    "id": "Q8SGTvfRr7qT"
   },
   "outputs": [],
   "source": [
    "from dlomix.models import RetentionTimePredictor"
   ]
  },
  {
   "cell_type": "code",
   "execution_count": null,
   "metadata": {
    "id": "ZqrsF6APr7qU"
   },
   "outputs": [],
   "source": [
    "model = RetentionTimePredictor(seq_length=30)"
   ]
  },
  {
   "cell_type": "markdown",
   "metadata": {
    "id": "adD60VwQr7qU"
   },
   "source": [
    "## 3. Training\n",
    "\n",
    "We can then train the model like a standard Keras model. The training parameters here are from Prosit, but other optimizer parameters can be used.  "
   ]
  },
  {
   "cell_type": "code",
   "execution_count": null,
   "metadata": {
    "id": "IkPIHuWEr7qU"
   },
   "outputs": [],
   "source": [
    "#imports\n",
    "\n",
    "import tensorflow as tf\n",
    "from dlomix.eval import TimeDeltaMetric"
   ]
  },
  {
   "cell_type": "code",
   "execution_count": null,
   "metadata": {
    "id": "xLy32wk7r7qU"
   },
   "outputs": [],
   "source": [
    "# Enter weights and biases run name.\n",
    "wandb.init(project=project_name, name='walkthrough')\n",
    "\n",
    "# create the optimizer object\n",
    "optimizer = tf.keras.optimizers.Adam(learning_rate=0.0001)\n",
    "\n",
    "# compile the model  with the optimizer and the metrics we want to use, we can add our custom timedelta metric\n",
    "model.compile(optimizer=optimizer, \n",
    "              loss='mse',\n",
    "              metrics=['mean_absolute_error', TimeDeltaMetric()])"
   ]
  },
  {
   "cell_type": "markdown",
   "metadata": {
    "id": "wtEUn_vdr7qV"
   },
   "source": [
    "We store the result of training so that we can explore the metrics and the losses later. We specify the number of epochs for training and pass the training and validation data as previously described."
   ]
  },
  {
   "cell_type": "code",
   "execution_count": null,
   "metadata": {
    "colab": {
     "base_uri": "https://localhost:8080/"
    },
    "id": "E14EcoYTr7qV",
    "outputId": "4455efd2-161b-4dff-e747-6db1724defbb",
    "scrolled": true
   },
   "outputs": [
    {
     "name": "stdout",
     "output_type": "stream",
     "text": [
      "Epoch 1/15\n",
      "424/424 [==============================] - 40s 19ms/step - loss: 1832.4946 - mean_absolute_error: 32.7320 - timedelta: 34.4974 - val_loss: 489.3138 - val_mean_absolute_error: 17.8017 - val_timedelta: 16.1213\n",
      "Epoch 2/15\n",
      "424/424 [==============================] - 7s 18ms/step - loss: 340.4984 - mean_absolute_error: 14.4525 - timedelta: 15.1329 - val_loss: 249.6800 - val_mean_absolute_error: 12.1094 - val_timedelta: 11.1216\n",
      "Epoch 3/15\n",
      "424/424 [==============================] - 8s 18ms/step - loss: 212.2739 - mean_absolute_error: 11.0243 - timedelta: 11.8326 - val_loss: 184.0618 - val_mean_absolute_error: 10.0515 - val_timedelta: 9.3101\n",
      "Epoch 4/15\n",
      "424/424 [==============================] - 7s 18ms/step - loss: 173.2035 - mean_absolute_error: 9.7956 - timedelta: 10.5815 - val_loss: 164.1734 - val_mean_absolute_error: 9.3796 - val_timedelta: 8.5807\n",
      "Epoch 5/15\n",
      "424/424 [==============================] - 8s 18ms/step - loss: 157.1429 - mean_absolute_error: 9.2478 - timedelta: 9.9784 - val_loss: 152.4470 - val_mean_absolute_error: 8.9787 - val_timedelta: 8.3210\n",
      "Epoch 6/15\n",
      "424/424 [==============================] - 8s 18ms/step - loss: 146.4245 - mean_absolute_error: 8.8689 - timedelta: 9.5305 - val_loss: 143.4840 - val_mean_absolute_error: 8.6643 - val_timedelta: 8.1446\n",
      "Epoch 7/15\n",
      "424/424 [==============================] - 8s 18ms/step - loss: 138.0092 - mean_absolute_error: 8.5634 - timedelta: 9.1952 - val_loss: 135.9126 - val_mean_absolute_error: 8.3968 - val_timedelta: 8.0123\n",
      "Epoch 8/15\n",
      "424/424 [==============================] - 8s 18ms/step - loss: 131.0344 - mean_absolute_error: 8.3104 - timedelta: 8.9169 - val_loss: 129.6278 - val_mean_absolute_error: 8.1609 - val_timedelta: 7.9130\n",
      "Epoch 9/15\n",
      "424/424 [==============================] - 8s 18ms/step - loss: 124.6471 - mean_absolute_error: 8.0688 - timedelta: 8.6717 - val_loss: 123.8959 - val_mean_absolute_error: 7.9374 - val_timedelta: 7.7584\n",
      "Epoch 10/15\n",
      "424/424 [==============================] - 8s 18ms/step - loss: 118.5003 - mean_absolute_error: 7.8308 - timedelta: 8.4845 - val_loss: 118.7275 - val_mean_absolute_error: 7.7331 - val_timedelta: 7.5833\n",
      "Epoch 11/15\n",
      "424/424 [==============================] - 8s 18ms/step - loss: 113.0706 - mean_absolute_error: 7.6188 - timedelta: 8.3045 - val_loss: 114.6717 - val_mean_absolute_error: 7.5749 - val_timedelta: 7.4871\n",
      "Epoch 12/15\n",
      "424/424 [==============================] - 8s 18ms/step - loss: 108.7374 - mean_absolute_error: 7.4500 - timedelta: 8.1359 - val_loss: 111.3152 - val_mean_absolute_error: 7.4456 - val_timedelta: 7.4224\n",
      "Epoch 13/15\n",
      "424/424 [==============================] - 8s 18ms/step - loss: 105.0870 - mean_absolute_error: 7.3051 - timedelta: 7.9515 - val_loss: 108.6287 - val_mean_absolute_error: 7.3347 - val_timedelta: 7.3859\n",
      "Epoch 14/15\n",
      "424/424 [==============================] - 8s 18ms/step - loss: 101.9670 - mean_absolute_error: 7.1783 - timedelta: 7.7750 - val_loss: 105.8125 - val_mean_absolute_error: 7.2234 - val_timedelta: 7.3017\n",
      "Epoch 15/15\n",
      "424/424 [==============================] - 8s 18ms/step - loss: 99.1913 - mean_absolute_error: 7.0633 - timedelta: 7.6117 - val_loss: 103.6642 - val_mean_absolute_error: 7.1311 - val_timedelta: 7.2316\n"
     ]
    }
   ],
   "source": [
    "history = model.fit(rtdata.train_data,\n",
    "                    validation_data=rtdata.val_data,\n",
    "                    epochs=15,callbacks=[WandbCallback(save_model=False)])"
   ]
  },
  {
   "cell_type": "code",
   "execution_count": null,
   "metadata": {},
   "outputs": [],
   "source": [
    "# Mark the run as finished\n",
    "wandb.finish()"
   ]
  },
  {
   "cell_type": "markdown",
   "metadata": {
    "id": "oukZ4AyMr7qV"
   },
   "source": [
    "## 3. Testing and Reporting\n",
    "\n",
    "We can create a test dataset to test our model. Additionally, we can use the reporting module to produce plots and evaluate the model.\n",
    "\n",
    "Note: the reporting module is still in progress and some functionalities might easily break."
   ]
  },
  {
   "cell_type": "code",
   "execution_count": null,
   "metadata": {
    "id": "ngz4zlnwr7qV"
   },
   "outputs": [],
   "source": [
    "# create the dataset object for test data\n",
    "\n",
    "TEST_DATAPATH = 'https://raw.githubusercontent.com/wilhelm-lab/dlomix-resources/main/example_datasets/RetentionTime/proteomeTools_test.csv'\n",
    "\n",
    "test_rtdata = RetentionTimeDataset(data_source=TEST_DATAPATH,\n",
    "                              seq_length=30, batch_size=32, test=True)"
   ]
  },
  {
   "cell_type": "code",
   "execution_count": null,
   "metadata": {
    "id": "RrvR8Cl3r7qV"
   },
   "outputs": [],
   "source": [
    "# use model.predict from keras directly on the testdata\n",
    "\n",
    "predictions = model.predict(test_rtdata.test_data)\n",
    "\n",
    "# we use ravel from numpy to flatten the array (since it comes out as an array of arrays)\n",
    "predictions = predictions.ravel()"
   ]
  },
  {
   "cell_type": "code",
   "execution_count": null,
   "metadata": {
    "colab": {
     "base_uri": "https://localhost:8080/",
     "height": 35
    },
    "id": "WieFBLmyTWPr",
    "outputId": "c4c645cf-adbf-4a89-b09f-0c59a514a97f"
   },
   "outputs": [
    {
     "data": {
      "application/vnd.google.colaboratory.intrinsic+json": {
       "type": "string"
      },
      "text/plain": [
       "'test'"
      ]
     },
     "execution_count": 34,
     "metadata": {},
     "output_type": "execute_result"
    }
   ],
   "source": [
    "test_rtdata.main_split"
   ]
  },
  {
   "cell_type": "code",
   "execution_count": null,
   "metadata": {
    "id": "wKk7MD7Wr7qW"
   },
   "outputs": [],
   "source": [
    "# we can get the targets of a specific split to calcualte evaluation metrics against predictions\n",
    "# the get_split_targets function from the RetentionTime dataset does this\n",
    "\n",
    "test_targets = test_rtdata.get_split_targets(split=\"test\")"
   ]
  },
  {
   "cell_type": "code",
   "execution_count": null,
   "metadata": {
    "colab": {
     "base_uri": "https://localhost:8080/"
    },
    "id": "6UnLZTZ9r7qW",
    "outputId": "231f49ce-e57a-4e2e-d95f-4bd206480fea"
   },
   "outputs": [
    {
     "data": {
      "text/plain": [
       "(array([160.87262216,  -9.96731383,   1.6301965 , ...,  43.60962035,\n",
       "         29.89127059,  70.90945116]),\n",
       " array([159.3666  ,  -8.034623,  -8.892174, ...,  44.54482 ,  22.670792,\n",
       "         69.87173 ], dtype=float32))"
      ]
     },
     "execution_count": 16,
     "metadata": {},
     "output_type": "execute_result"
    }
   ],
   "source": [
    "test_targets, predictions"
   ]
  },
  {
   "cell_type": "code",
   "execution_count": null,
   "metadata": {
    "id": "4kzCh0gwr7qX"
   },
   "outputs": [],
   "source": [
    "from dlomix.reports import RetentionTimeReport"
   ]
  },
  {
   "cell_type": "code",
   "execution_count": null,
   "metadata": {
    "id": "_7LJZ3TLr7qX"
   },
   "outputs": [],
   "source": [
    "# create a report object by passing the history object and plot different metrics\n",
    "report = RetentionTimeReport(output_path=\"./output\", history=history)"
   ]
  },
  {
   "cell_type": "code",
   "execution_count": null,
   "metadata": {
    "colab": {
     "base_uri": "https://localhost:8080/",
     "height": 295
    },
    "id": "1iI-_Nufr7qX",
    "outputId": "8fdb994b-9678-49c1-be42-d576f01d2ca7"
   },
   "outputs": [
    {
     "data": {
      "image/png": "[encoded data removed]",
      "text/plain": [
       "<Figure size 432x288 with 1 Axes>"
      ]
     },
     "metadata": {
      "needs_background": "light"
     },
     "output_type": "display_data"
    }
   ],
   "source": [
    "report.plot_keras_metric(\"loss\")"
   ]
  },
  {
   "cell_type": "code",
   "execution_count": null,
   "metadata": {
    "colab": {
     "base_uri": "https://localhost:8080/",
     "height": 295
    },
    "id": "jt05Xrq6r7qX",
    "outputId": "881c3e95-e195-4e3c-e91e-4db5340583c0"
   },
   "outputs": [
    {
     "data": {
      "image/png": "[encoded data removed]",
      "text/plain": [
       "<Figure size 432x288 with 1 Axes>"
      ]
     },
     "metadata": {
      "needs_background": "light"
     },
     "output_type": "display_data"
    }
   ],
   "source": [
    "report.plot_keras_metric(\"mean_absolute_error\")"
   ]
  },
  {
   "cell_type": "code",
   "execution_count": null,
   "metadata": {
    "colab": {
     "base_uri": "https://localhost:8080/",
     "height": 295
    },
    "id": "0GBkd9WSr7qX",
    "outputId": "5089f7e1-f81d-40a1-e1b3-58d292dec034"
   },
   "outputs": [
    {
     "data": {
      "image/png": "[encoded data removed]",
      "text/plain": [
       "<Figure size 432x288 with 1 Axes>"
      ]
     },
     "metadata": {
      "needs_background": "light"
     },
     "output_type": "display_data"
    }
   ],
   "source": [
    "report.plot_keras_metric(\"timedelta\")"
   ]
  },
  {
   "cell_type": "code",
   "execution_count": null,
   "metadata": {
    "colab": {
     "base_uri": "https://localhost:8080/"
    },
    "id": "hABgy_pYr7qY",
    "outputId": "feb48bbd-3db3-4316-b750-5a4260d46ace"
   },
   "outputs": [
    {
     "data": {
      "text/plain": [
       "0.9515820032144355"
      ]
     },
     "execution_count": 22,
     "metadata": {},
     "output_type": "execute_result"
    }
   ],
   "source": [
    "# calculate R2  given the targets and the predictions of the test data\n",
    "report.calculate_r2(test_targets, predictions)"
   ]
  },
  {
   "cell_type": "code",
   "execution_count": null,
   "metadata": {
    "colab": {
     "base_uri": "https://localhost:8080/",
     "height": 295
    },
    "id": "VnNJJYHsr7qY",
    "outputId": "7792cabb-3713-4b0f-9d86-f1b6666cbc1b"
   },
   "outputs": [
    {
     "data": {
      "image/png": "[encoded data removed]",
      "text/plain": [
       "<Figure size 432x288 with 1 Axes>"
      ]
     },
     "metadata": {
      "needs_background": "light"
     },
     "output_type": "display_data"
    }
   ],
   "source": [
    "report.plot_residuals(test_targets, predictions, xrange=(-30, 30))"
   ]
  },
  {
   "cell_type": "markdown",
   "metadata": {
    "id": "O1uYK1ZWr7qZ"
   },
   "source": [
    "## 4. Saving and Loading Models\n",
    "\n",
    "Models can be saved normally the same Keras models would be saved. It is better to save the weights and the not the model since it makes it easier and more platform-indepdent when loading the model again. The extra step needed is to create a model object and then load the weights."
   ]
  },
  {
   "cell_type": "code",
   "execution_count": null,
   "metadata": {
    "id": "MnnLsOPVr7qZ"
   },
   "outputs": [],
   "source": [
    "# save the model weights\n",
    "\n",
    "save_path = \"./output/rtmodel\"\n",
    "model.save_weights(save_path)"
   ]
  },
  {
   "cell_type": "code",
   "execution_count": null,
   "metadata": {
    "colab": {
     "base_uri": "https://localhost:8080/"
    },
    "id": "nYVNZBd-r7qZ",
    "outputId": "2900a2ea-9789-4a93-f638-c6df0ad07ed8"
   },
   "outputs": [
    {
     "data": {
      "text/plain": [
       "<tensorflow.python.training.tracking.util.CheckpointLoadStatus at 0x7f08f76c3550>"
      ]
     },
     "execution_count": 26,
     "metadata": {},
     "output_type": "execute_result"
    }
   ],
   "source": [
    "# models can be later loaded by creating a model object and then loading the weights\n",
    "\n",
    "trained_model = RetentionTimePredictor(seq_length=30)\n",
    "trained_model.load_weights(save_path)"
   ]
  },
  {
   "cell_type": "markdown",
   "metadata": {
    "id": "SkUf8vtOr7qZ"
   },
   "source": [
    "We can compare the predictions to make sure that the model was loaded correctly."
   ]
  },
  {
   "cell_type": "code",
   "execution_count": null,
   "metadata": {
    "id": "p2ifAmfxr7qZ"
   },
   "outputs": [],
   "source": [
    "new_predictions = trained_model.predict(test_rtdata.test_data)"
   ]
  },
  {
   "cell_type": "code",
   "execution_count": null,
   "metadata": {
    "id": "Z7lPgkKBr7qZ"
   },
   "outputs": [],
   "source": [
    "new_predictions = new_predictions.ravel()"
   ]
  },
  {
   "cell_type": "code",
   "execution_count": null,
   "metadata": {
    "colab": {
     "base_uri": "https://localhost:8080/"
    },
    "id": "ifUnCpdAr7qa",
    "outputId": "00524bd9-13d0-4e06-a716-c3bf63e6fc4a"
   },
   "outputs": [
    {
     "data": {
      "text/plain": [
       "True"
      ]
     },
     "execution_count": 29,
     "metadata": {},
     "output_type": "execute_result"
    }
   ],
   "source": [
    "# confirm all old and new predictions are the same\n",
    "np.allclose(predictions, new_predictions)"
   ]
  },
  {
   "cell_type": "code",
   "execution_count": null,
   "metadata": {
    "id": "d3yrG9l3r7qa"
   },
   "outputs": [],
   "source": [
    "results_df = pd.DataFrame({\"sequence\": test_rtdata.sequences,\n",
    "                           \"irt\": test_rtdata.targets,\n",
    "                           \"predicted_irt\": predictions})\n",
    "\n",
    "results_df.to_csv(\"./output/predictions_irt.csv\", index=False)"
   ]
  },
  {
   "cell_type": "code",
   "execution_count": null,
   "metadata": {
    "colab": {
     "base_uri": "https://localhost:8080/",
     "height": 419
    },
    "id": "KkV_CszYTWPv",
    "outputId": "dd79c0a4-fcba-4e63-dae3-1b36b7416c3c"
   },
   "outputs": [
    {
     "data": {
      "text/html": [
       "<div>\n",
       "<style scoped>\n",
       "    .dataframe tbody tr th:only-of-type {\n",
       "        vertical-align: middle;\n",
       "    }\n",
       "\n",
       "    .dataframe tbody tr th {\n",
       "        vertical-align: top;\n",
       "    }\n",
       "\n",
       "    .dataframe thead th {\n",
       "        text-align: right;\n",
       "    }\n",
       "</style>\n",
       "<table border=\"1\" class=\"dataframe\">\n",
       "  <thead>\n",
       "    <tr style=\"text-align: right;\">\n",
       "      <th></th>\n",
       "      <th>sequence</th>\n",
       "      <th>irt</th>\n",
       "      <th>predicted_irt</th>\n",
       "    </tr>\n",
       "  </thead>\n",
       "  <tbody>\n",
       "    <tr>\n",
       "      <th>0</th>\n",
       "      <td>IAAGLGPSYSGSLLLFDALR</td>\n",
       "      <td>160.872622</td>\n",
       "      <td>159.366600</td>\n",
       "    </tr>\n",
       "    <tr>\n",
       "      <th>1</th>\n",
       "      <td>KKISEEDLR</td>\n",
       "      <td>-9.967314</td>\n",
       "      <td>-8.034623</td>\n",
       "    </tr>\n",
       "    <tr>\n",
       "      <th>2</th>\n",
       "      <td>HAFTCRVAGGPGTPR</td>\n",
       "      <td>1.630197</td>\n",
       "      <td>-8.892174</td>\n",
       "    </tr>\n",
       "    <tr>\n",
       "      <th>3</th>\n",
       "      <td>LNDGHFMPVLGFGTYAPPEVPR</td>\n",
       "      <td>108.566269</td>\n",
       "      <td>123.828720</td>\n",
       "    </tr>\n",
       "    <tr>\n",
       "      <th>4</th>\n",
       "      <td>MITPEDVK</td>\n",
       "      <td>14.768607</td>\n",
       "      <td>19.007524</td>\n",
       "    </tr>\n",
       "    <tr>\n",
       "      <th>...</th>\n",
       "      <td>...</td>\n",
       "      <td>...</td>\n",
       "      <td>...</td>\n",
       "    </tr>\n",
       "    <tr>\n",
       "      <th>5976</th>\n",
       "      <td>VAPPGLTQIPQIQK</td>\n",
       "      <td>83.372074</td>\n",
       "      <td>82.471085</td>\n",
       "    </tr>\n",
       "    <tr>\n",
       "      <th>5977</th>\n",
       "      <td>SELGSFITDYFQNQLLAK</td>\n",
       "      <td>161.185058</td>\n",
       "      <td>162.585250</td>\n",
       "    </tr>\n",
       "    <tr>\n",
       "      <th>5978</th>\n",
       "      <td>TYRPLVNDISEAK</td>\n",
       "      <td>43.609620</td>\n",
       "      <td>44.544820</td>\n",
       "    </tr>\n",
       "    <tr>\n",
       "      <th>5979</th>\n",
       "      <td>EITNQVVPQER</td>\n",
       "      <td>29.891271</td>\n",
       "      <td>22.670792</td>\n",
       "    </tr>\n",
       "    <tr>\n",
       "      <th>5980</th>\n",
       "      <td>FAVTYFQK</td>\n",
       "      <td>70.909451</td>\n",
       "      <td>69.871730</td>\n",
       "    </tr>\n",
       "  </tbody>\n",
       "</table>\n",
       "<p>5981 rows × 3 columns</p>\n",
       "</div>"
      ],
      "text/plain": [
       "                    sequence         irt  predicted_irt\n",
       "0       IAAGLGPSYSGSLLLFDALR  160.872622     159.366600\n",
       "1                  KKISEEDLR   -9.967314      -8.034623\n",
       "2            HAFTCRVAGGPGTPR    1.630197      -8.892174\n",
       "3     LNDGHFMPVLGFGTYAPPEVPR  108.566269     123.828720\n",
       "4                   MITPEDVK   14.768607      19.007524\n",
       "...                      ...         ...            ...\n",
       "5976          VAPPGLTQIPQIQK   83.372074      82.471085\n",
       "5977      SELGSFITDYFQNQLLAK  161.185058     162.585250\n",
       "5978           TYRPLVNDISEAK   43.609620      44.544820\n",
       "5979             EITNQVVPQER   29.891271      22.670792\n",
       "5980                FAVTYFQK   70.909451      69.871730\n",
       "\n",
       "[5981 rows x 3 columns]"
      ]
     },
     "execution_count": 31,
     "metadata": {},
     "output_type": "execute_result"
    }
   ],
   "source": [
    "pd.read_csv(\"./output/predictions_irt.csv\")"
   ]
  },
  {
   "cell_type": "code",
   "execution_count": null,
   "metadata": {
    "id": "-N6kL56pTmCV"
   },
   "outputs": [],
   "source": []
  }
 ],
 "metadata": {
  "accelerator": "GPU",
  "colab": {
   "name": "Copy of Example_RTModel_Walkthrough.ipynb",
   "provenance": []
  },
  "kernelspec": {
   "display_name": "Python 3",
   "language": "python",
   "name": "python3"
  },
  "language_info": {
   "codemirror_mode": {
    "name": "ipython",
    "version": 3
   },
   "file_extension": ".py",
   "mimetype": "text/x-python",
   "name": "python",
   "nbconvert_exporter": "python",
   "pygments_lexer": "ipython3",
   "version": "3.6.12"
  },
  "vscode": {
   "interpreter": {
    "hash": "31f2aee4e71d21fbe5cf8b01ff0e069b9275f58929596ceb00d14d90e3e16cd6"
   }
  }
 },
 "nbformat": 4,
 "nbformat_minor": 1
}
