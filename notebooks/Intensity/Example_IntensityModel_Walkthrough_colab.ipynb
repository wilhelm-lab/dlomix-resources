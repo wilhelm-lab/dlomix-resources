{
 "cells": [
  {
   "cell_type": "markdown",
   "metadata": {
    "id": "7YWkUVjVr7qJ"
   },
   "source": [
    "# Intensity Prediction \n",
    "\n",
    "This notebook is prepared to be run in Google [Colaboratory](https://colab.research.google.com/). In order to train the model faster, please change the runtime of Colab to use Hardware Accelerator, either GPU or TPU."
   ]
  },
  {
   "cell_type": "markdown",
   "metadata": {
    "id": "S3DlTOq3r7qM"
   },
   "source": [
    "This notebook presents a short walkthrough the process of reading a dataset and training a model for intensity prediction. The dataset is an example dataset extracted from a ProteomeTools dataset generated in the **Chair of Bioanalytics** at the **Technical University of Munich**.\n",
    "\n",
    "The framework being used is a custom wrapper on top of Keras/TensorFlow. The working name of the package is for now DLOmix -  `dlomix`."
   ]
  },
  {
   "cell_type": "code",
   "execution_count": null,
   "metadata": {
    "scrolled": true
   },
   "outputs": [],
   "source": [
    "import numpy\n",
    "import functools\n",
    "import dlomix.losses as losses\n",
    "import tensorflow as tf\n",
    "\n",
    "\n",
    "def reshape_dims(array):\n",
    "    n, dims = array.shape\n",
    "    assert dims == 174\n",
    "    nlosses = 1\n",
    "    return array.reshape(\n",
    "        [array.shape[0], 30 - 1, 2, nlosses, 3]\n",
    "    )\n",
    "\n",
    "\n",
    "def reshape_flat(array):\n",
    "    s = array.shape\n",
    "    flat_dim = [s[0], functools.reduce(lambda x, y: x * y, s[1:], 1)]\n",
    "    return array.reshape(flat_dim)\n",
    "\n",
    "\n",
    "def normalize_base_peak(array):\n",
    "    # flat\n",
    "    maxima = array.max(axis=1)\n",
    "    array = array / maxima[:, numpy.newaxis]\n",
    "    return array\n",
    "\n",
    "\n",
    "def mask_outofrange(array, lengths, mask=-1.):\n",
    "    # dim\n",
    "    for i in range(array.shape[0]):\n",
    "        array[i, lengths[i] - 1 :, :, :, :] = mask\n",
    "    return array\n",
    "\n",
    "\n",
    "def mask_outofcharge(array, charges, mask=-1.):\n",
    "    # dim\n",
    "    for i in range(array.shape[0]):\n",
    "        if charges[i] < 3:\n",
    "            array[i, :, :, :, charges[i] :] = mask\n",
    "    return array\n",
    "\n",
    "\n",
    "def get_spectral_angle(true, pred, batch_size=600):\n",
    "\n",
    "    n = true.shape[0]\n",
    "    sa = numpy.zeros([n])\n",
    "\n",
    "    def iterate():\n",
    "        if n > batch_size:\n",
    "            for i in range(n // batch_size):\n",
    "                true_sample = true[i * batch_size : (i + 1) * batch_size]\n",
    "                pred_sample = pred[i * batch_size : (i + 1) * batch_size]\n",
    "                yield i, true_sample, pred_sample\n",
    "            i = n // batch_size\n",
    "            yield i, true[(i) * batch_size :], pred[(i) * batch_size :]\n",
    "        else:\n",
    "            yield 0, true, pred\n",
    "\n",
    "    for i, t_b, p_b in iterate():\n",
    "        tf.compat.v1.reset_default_graph()\n",
    "        with tf.compat.v1.Session() as s:\n",
    "            sa_graph = losses.masked_spectral_distance(t_b, p_b)\n",
    "            sa_b = 1 - s.run(sa_graph)\n",
    "            sa[i * batch_size : i * batch_size + sa_b.shape[0]] = sa_b\n",
    "    sa = numpy.nan_to_num(sa)\n",
    "    return sa\n",
    "\n",
    "\n",
    "def normalize_predictions(data, batch_size=600):\n",
    "    assert \"sequences\" in data\n",
    "    assert \"intensities_pred\" in data\n",
    "    assert \"precursor_charge_onehot\" in data\n",
    "\n",
    "    sequence_lengths = data[\"sequences\"].apply(lambda x: len(x))\n",
    "    intensities =  np.stack(data[\"intensities_pred\"].to_numpy()).astype(np.float32)\n",
    "    precursor_charge_onehot = np.stack(data[\"precursor_charge_onehot\"].to_numpy())\n",
    "    charges = list(precursor_charge_onehot.argmax(axis=1) + 1)\n",
    "\n",
    "    intensities[intensities < 0] = 0\n",
    "    intensities = reshape_dims(intensities)\n",
    "    intensities = mask_outofrange(intensities, sequence_lengths)\n",
    "    intensities = mask_outofcharge(intensities, charges)\n",
    "    intensities = reshape_flat(intensities)\n",
    "    m_idx = intensities == -1\n",
    "    intensities = normalize_base_peak(intensities)\n",
    "    intensities[m_idx] = -1\n",
    "    data[\"intensities_pred\"] = intensities\n",
    "\n",
    "    if \"intensities_raw\" in data:\n",
    "        data[\"spectral_angle\"] = get_spectral_angle(\n",
    "            np.stack(data[\"intensities_raw\"].to_numpy()).astype(np.float32), intensities, batch_size=batch_size\n",
    "        )\n",
    "    return data\n"
   ]
  },
  {
   "cell_type": "code",
   "execution_count": null,
   "metadata": {
    "colab": {
     "base_uri": "https://localhost:8080/"
    },
    "id": "aO-69zbKsGey",
    "outputId": "2d7f5f84-aa06-4ec7-9a2b-c1f546031baf",
    "scrolled": false
   },
   "outputs": [],
   "source": [
    "# install the DLOmix package in the current environment using pip\n",
    "\n",
    "!python -m pip install -q dlomix==0.0.3"
   ]
  },
  {
   "cell_type": "code",
   "execution_count": null,
   "metadata": {
    "scrolled": true
   },
   "outputs": [],
   "source": [
    "!python -m pip install wandb"
   ]
  },
  {
   "cell_type": "markdown",
   "metadata": {
    "id": "Mo7H9qzWr7qN"
   },
   "source": [
    "The available modules in the framework are as follows:"
   ]
  },
  {
   "cell_type": "code",
   "execution_count": null,
   "metadata": {
    "colab": {
     "base_uri": "https://localhost:8080/"
    },
    "id": "l0CS0tFur7qN",
    "outputId": "16c0f94a-97ab-4445-ef6b-4ac28029e64d",
    "scrolled": true
   },
   "outputs": [],
   "source": [
    "import numpy as np\n",
    "import pandas as pd\n",
    "import dlomix\n",
    "from dlomix import constants, data, eval, layers, models, pipelines, reports, utils\n",
    "print([x for x in dir(dlomix) if not x.startswith(\"_\")])"
   ]
  },
  {
   "cell_type": "markdown",
   "metadata": {
    "id": "JsgPZb_Mr7qP"
   },
   "source": [
    "- `constants`: constants to be used in the framework (e.g. Aminoacid alphabet mapping)\n",
    "- `data`:  classes for representing dataset, wrappers around TensorFlow Dataset\n",
    "- `eval`: custom evaluation metrics implemented in Keras/TF to work as `metrics` for model training\n",
    "- `layers`: custom layer implementation required for the different models\n",
    "- `models`: different model implementations for Retention Time Prediction\n",
    "- `pipelines`: complete pipelines to run a task (e.g. Retention Time prediction)\n",
    "- `utils`: helper modules\n",
    "\n",
    "**Note**: reports and pipelines are work-in-progress, some funtionalities are not complete."
   ]
  },
  {
   "cell_type": "markdown",
   "metadata": {},
   "source": [
    "## 0. Import and Initialize Weights and Biases\n"
   ]
  },
  {
   "cell_type": "code",
   "execution_count": 1,
   "metadata": {
    "scrolled": true
   },
   "outputs": [],
   "source": [
    "# import wandb and the Keras Callback\n",
    "\n",
    "import wandb\n",
    "from wandb.keras import WandbCallback"
   ]
  },
  {
   "cell_type": "code",
   "execution_count": 18,
   "metadata": {
    "scrolled": true
   },
   "outputs": [],
   "source": [
    "# enter project name\n",
    "project_name = 'dlomix_intensity'"
   ]
  },
  {
   "cell_type": "markdown",
   "metadata": {
    "id": "41qXroyKr7qP"
   },
   "source": [
    "## 1. Load Data\n",
    "\n",
    "We can import the dataset class and create an object of type `RetentionTimeDataset`. This object wraps around TensorFlow dataset objects for training+validation or for testing. This can be specified by the arguments `val_ratio` and `test`."
   ]
  },
  {
   "cell_type": "code",
   "execution_count": 5,
   "metadata": {
    "id": "RiXz_epEr7qQ",
    "scrolled": true
   },
   "outputs": [],
   "source": [
    "from dlomix.data import IntensityDataset"
   ]
  },
  {
   "cell_type": "code",
   "execution_count": 6,
   "metadata": {
    "id": "lzNXJ-s6r7qQ",
    "scrolled": true
   },
   "outputs": [
    {
     "name": "stdout",
     "output_type": "stream",
     "text": [
      "<class 'pandas.core.series.Series'>\n",
      "0        [0, 0, 1, 0, 0, 0]\n",
      "1        [0, 1, 0, 0, 0, 0]\n",
      "2        [0, 0, 1, 0, 0, 0]\n",
      "3        [0, 0, 1, 0, 0, 0]\n",
      "4        [0, 0, 1, 0, 0, 0]\n",
      "                ...        \n",
      "18259    [0, 1, 0, 0, 0, 0]\n",
      "18260    [0, 1, 0, 0, 0, 0]\n",
      "18261    [0, 0, 1, 0, 0, 0]\n",
      "18262    [0, 1, 0, 0, 0, 0]\n",
      "18263    [0, 0, 1, 0, 0, 0]\n",
      "Name: precursor_charge_onehot, Length: 18264, dtype: object\n"
     ]
    }
   ],
   "source": [
    "TRAIN_DATAPATH = 'https://raw.githubusercontent.com/wilhelm-lab/dlomix-resources/tasks/intensity/example_datasets/Intensity/proteomeTools_train_val.csv'\n",
    "BATCH_SIZE = 64\n",
    "\n",
    "int_data = IntensityDataset(data_source=TRAIN_DATAPATH,\n",
    "                              seq_length=30, batch_size=BATCH_SIZE,collision_energy_col='collision_energy', val_ratio=0.2, test=False)"
   ]
  },
  {
   "cell_type": "markdown",
   "metadata": {
    "id": "_UUzvcHGr7qR"
   },
   "source": [
    "Now we have an RT dataset that can be used directly with standard or custom `Keras` models. This wrapper contains the splits we chose when creating it. In our case, they are training and validation splits. To get the TF Dataset, we call the attributes `.train_data` and `.val_data`. The length is now in batches (i.e. `total examples = batch_size x len`)"
   ]
  },
  {
   "cell_type": "code",
   "execution_count": 7,
   "metadata": {
    "colab": {
     "base_uri": "https://localhost:8080/"
    },
    "id": "y1l6YedCr7qS",
    "outputId": "16a1d57b-7720-4cb1-cdea-a32d9d2c3804",
    "scrolled": true
   },
   "outputs": [
    {
     "data": {
      "text/plain": [
       "('Training examples', 14656)"
      ]
     },
     "execution_count": 7,
     "metadata": {},
     "output_type": "execute_result"
    }
   ],
   "source": [
    " \"Training examples\", BATCH_SIZE * len(int_data.train_data)"
   ]
  },
  {
   "cell_type": "code",
   "execution_count": 8,
   "metadata": {
    "colab": {
     "base_uri": "https://localhost:8080/"
    },
    "id": "uEnVWjtRr7qT",
    "outputId": "95550088-76c5-4f1b-8181-dddb942d94b0",
    "scrolled": true
   },
   "outputs": [
    {
     "data": {
      "text/plain": [
       "('Validation examples', 3712)"
      ]
     },
     "execution_count": 8,
     "metadata": {},
     "output_type": "execute_result"
    }
   ],
   "source": [
    "\"Validation examples\", BATCH_SIZE * len(int_data.val_data)"
   ]
  },
  {
   "cell_type": "markdown",
   "metadata": {
    "id": "oWeVi0iar7qT"
   },
   "source": [
    "## 2. Model\n",
    "\n",
    "We can now create the model. We will use a simple Prediction with a conv1D encoder. It has the default working arguments, but most of the parameters can be customized.\n",
    "\n",
    "**Note**: Important is to ensure that the padding length used for the dataset object is equal to the sequence length passed to the model."
   ]
  },
  {
   "cell_type": "code",
   "execution_count": 9,
   "metadata": {
    "id": "Q8SGTvfRr7qT",
    "scrolled": true
   },
   "outputs": [],
   "source": [
    "from dlomix.models import PrositIntensityPredictor"
   ]
  },
  {
   "cell_type": "code",
   "execution_count": 10,
   "metadata": {
    "id": "ZqrsF6APr7qU",
    "scrolled": true
   },
   "outputs": [],
   "source": [
    "model = PrositIntensityPredictor(seq_length=30)"
   ]
  },
  {
   "cell_type": "markdown",
   "metadata": {
    "id": "adD60VwQr7qU"
   },
   "source": [
    "## 3. Training\n",
    "\n",
    "We can then train the model like a standard Keras model. The training parameters here are from Prosit, but other optimizer parameters can be used.  "
   ]
  },
  {
   "cell_type": "code",
   "execution_count": 11,
   "metadata": {
    "id": "IkPIHuWEr7qU",
    "scrolled": true
   },
   "outputs": [],
   "source": [
    "#imports\n",
    "\n",
    "import tensorflow as tf\n",
    "from dlomix.eval import TimeDeltaMetric\n",
    "from dlomix.losses import masked_spectral_distance"
   ]
  },
  {
   "cell_type": "code",
   "execution_count": 16,
   "metadata": {
    "id": "xLy32wk7r7qU",
    "scrolled": true
   },
   "outputs": [],
   "source": [
    "# create the optimizer object\n",
    "optimizer = tf.keras.optimizers.Adam(learning_rate=0.001)\n",
    "\n",
    "# compile the model  with the optimizer and the metrics we want to use, we can add our custom timedelta metric\n",
    "model.compile(optimizer=optimizer,\n",
    "              loss=masked_spectral_distance,\n",
    "              metrics=['mse'])"
   ]
  },
  {
   "cell_type": "markdown",
   "metadata": {
    "id": "wtEUn_vdr7qV"
   },
   "source": [
    "We store the result of training so that we can explore the metrics and the losses later. We specify the number of epochs for training and pass the training and validation data as previously described."
   ]
  },
  {
   "cell_type": "code",
   "execution_count": null,
   "metadata": {
    "colab": {
     "base_uri": "https://localhost:8080/"
    },
    "id": "E14EcoYTr7qV",
    "outputId": "4455efd2-161b-4dff-e747-6db1724defbb",
    "scrolled": false
   },
   "outputs": [
    {
     "data": {
      "text/html": [
       "Tracking run with wandb version 0.13.10"
      ],
      "text/plain": [
       "<IPython.core.display.HTML object>"
      ]
     },
     "metadata": {},
     "output_type": "display_data"
    },
    {
     "data": {
      "text/html": [
       "Run data is saved locally in <code>D:\\Compmass\\dlomix-resources\\notebooks\\Intensity\\wandb\\run-20230224_125340-u2ctska4</code>"
      ],
      "text/plain": [
       "<IPython.core.display.HTML object>"
      ]
     },
     "metadata": {},
     "output_type": "display_data"
    },
    {
     "data": {
      "text/html": [
       "Syncing run <strong><a href='https://wandb.ai/prosit-compms/dlomix_intensity/runs/u2ctska4' target=\"_blank\">walktrough</a></strong> to <a href='https://wandb.ai/prosit-compms/dlomix_intensity' target=\"_blank\">Weights & Biases</a> (<a href='https://wandb.me/run' target=\"_blank\">docs</a>)<br/>"
      ],
      "text/plain": [
       "<IPython.core.display.HTML object>"
      ]
     },
     "metadata": {},
     "output_type": "display_data"
    },
    {
     "data": {
      "text/html": [
       " View project at <a href='https://wandb.ai/prosit-compms/dlomix_intensity' target=\"_blank\">https://wandb.ai/prosit-compms/dlomix_intensity</a>"
      ],
      "text/plain": [
       "<IPython.core.display.HTML object>"
      ]
     },
     "metadata": {},
     "output_type": "display_data"
    },
    {
     "data": {
      "text/html": [
       " View run at <a href='https://wandb.ai/prosit-compms/dlomix_intensity/runs/u2ctska4' target=\"_blank\">https://wandb.ai/prosit-compms/dlomix_intensity/runs/u2ctska4</a>"
      ],
      "text/plain": [
       "<IPython.core.display.HTML object>"
      ]
     },
     "metadata": {},
     "output_type": "display_data"
    },
    {
     "name": "stdout",
     "output_type": "stream",
     "text": [
      "WARNING:tensorflow:Layers in a Sequential model should only have a single input tensor, but we receive a <class 'list'> input: [<tf.Tensor 'prosit_intensity_predictor/Cast:0' shape=(None, 1) dtype=float32>, <tf.Tensor 'prosit_intensity_predictor/Cast_1:0' shape=(None, 6) dtype=float32>]\n",
      "Consider rewriting this model with the Functional API.\n"
     ]
    },
    {
     "name": "stderr",
     "output_type": "stream",
     "text": [
      "WARNING:tensorflow:Layers in a Sequential model should only have a single input tensor, but we receive a <class 'list'> input: [<tf.Tensor 'prosit_intensity_predictor/Cast:0' shape=(None, 1) dtype=float32>, <tf.Tensor 'prosit_intensity_predictor/Cast_1:0' shape=(None, 6) dtype=float32>]\n",
      "Consider rewriting this model with the Functional API.\n"
     ]
    },
    {
     "name": "stdout",
     "output_type": "stream",
     "text": [
      "encoded sequence:  Tensor(\"prosit_intensity_predictor/string_lookup/Identity:0\", shape=(None, 30), dtype=int64)\n",
      "WARNING:tensorflow:Layers in a Sequential model should only have a single input tensor, but we receive a <class 'list'> input: [<tf.Tensor 'prosit_intensity_predictor/encoder_att/Sum_1:0' shape=(None, 512) dtype=float32>, <tf.Tensor 'prosit_intensity_predictor/sequential/meta_dense_do/dropout/Mul_1:0' shape=(None, 512) dtype=float32>]\n",
      "Consider rewriting this model with the Functional API.\n"
     ]
    },
    {
     "name": "stderr",
     "output_type": "stream",
     "text": [
      "WARNING:tensorflow:Layers in a Sequential model should only have a single input tensor, but we receive a <class 'list'> input: [<tf.Tensor 'prosit_intensity_predictor/encoder_att/Sum_1:0' shape=(None, 512) dtype=float32>, <tf.Tensor 'prosit_intensity_predictor/sequential/meta_dense_do/dropout/Mul_1:0' shape=(None, 512) dtype=float32>]\n",
      "Consider rewriting this model with the Functional API.\n"
     ]
    },
    {
     "name": "stdout",
     "output_type": "stream",
     "text": [
      "WARNING:tensorflow:Layers in a Sequential model should only have a single input tensor, but we receive a <class 'list'> input: [<tf.Tensor 'prosit_intensity_predictor/Cast:0' shape=(None, 1) dtype=float32>, <tf.Tensor 'prosit_intensity_predictor/Cast_1:0' shape=(None, 6) dtype=float32>]\n",
      "Consider rewriting this model with the Functional API.\n"
     ]
    },
    {
     "name": "stderr",
     "output_type": "stream",
     "text": [
      "WARNING:tensorflow:Layers in a Sequential model should only have a single input tensor, but we receive a <class 'list'> input: [<tf.Tensor 'prosit_intensity_predictor/Cast:0' shape=(None, 1) dtype=float32>, <tf.Tensor 'prosit_intensity_predictor/Cast_1:0' shape=(None, 6) dtype=float32>]\n",
      "Consider rewriting this model with the Functional API.\n"
     ]
    },
    {
     "name": "stdout",
     "output_type": "stream",
     "text": [
      "encoded sequence:  Tensor(\"prosit_intensity_predictor/string_lookup/Identity:0\", shape=(None, 30), dtype=int64)\n",
      "WARNING:tensorflow:Layers in a Sequential model should only have a single input tensor, but we receive a <class 'list'> input: [<tf.Tensor 'prosit_intensity_predictor/encoder_att/Sum_1:0' shape=(None, 512) dtype=float32>, <tf.Tensor 'prosit_intensity_predictor/sequential/meta_dense_do/dropout/Mul_1:0' shape=(None, 512) dtype=float32>]\n",
      "Consider rewriting this model with the Functional API.\n"
     ]
    },
    {
     "name": "stderr",
     "output_type": "stream",
     "text": [
      "WARNING:tensorflow:Layers in a Sequential model should only have a single input tensor, but we receive a <class 'list'> input: [<tf.Tensor 'prosit_intensity_predictor/encoder_att/Sum_1:0' shape=(None, 512) dtype=float32>, <tf.Tensor 'prosit_intensity_predictor/sequential/meta_dense_do/dropout/Mul_1:0' shape=(None, 512) dtype=float32>]\n",
      "Consider rewriting this model with the Functional API.\n"
     ]
    },
    {
     "name": "stdout",
     "output_type": "stream",
     "text": [
      " 57/229 [======>.......................] - ETA: 1:40 - loss: 0.6561 - mse: 2.2714"
     ]
    }
   ],
   "source": [
    "wandb.init(project=project_name, name='walktrough')\n",
    "history = model.fit(int_data.train_data,\n",
    "                    validation_data=int_data.val_data,\n",
    "                    epochs=1,callbacks=[WandbCallback()])"
   ]
  },
  {
   "cell_type": "code",
   "execution_count": 15,
   "metadata": {},
   "outputs": [
    {
     "data": {
      "text/html": [
       "Waiting for W&B process to finish... <strong style=\"color:green\">(success).</strong>"
      ],
      "text/plain": [
       "<IPython.core.display.HTML object>"
      ]
     },
     "metadata": {},
     "output_type": "display_data"
    },
    {
     "data": {
      "application/vnd.jupyter.widget-view+json": {
       "model_id": "e3e574219af848c7b489f8c532a2c17e",
       "version_major": 2,
       "version_minor": 0
      },
      "text/plain": [
       "VBox(children=(Label(value='45.262 MB of 45.262 MB uploaded (0.000 MB deduped)\\r'), FloatProgress(value=1.0, m…"
      ]
     },
     "metadata": {},
     "output_type": "display_data"
    },
    {
     "data": {
      "text/html": [
       "<style>\n",
       "    table.wandb td:nth-child(1) { padding: 0 10px; text-align: left ; width: auto;} td:nth-child(2) {text-align: left ; width: 100%}\n",
       "    .wandb-row { display: flex; flex-direction: row; flex-wrap: wrap; justify-content: flex-start; width: 100% }\n",
       "    .wandb-col { display: flex; flex-direction: column; flex-basis: 100%; flex: 1; padding: 10px; }\n",
       "    </style>\n",
       "<div class=\"wandb-row\"><div class=\"wandb-col\"><h3>Run history:</h3><br/><table class=\"wandb\"><tr><td>epoch</td><td>▁</td></tr><tr><td>loss</td><td>▁</td></tr><tr><td>mse</td><td>▁</td></tr><tr><td>val_loss</td><td>▁</td></tr><tr><td>val_mse</td><td>▁</td></tr></table><br/></div><div class=\"wandb-col\"><h3>Run summary:</h3><br/><table class=\"wandb\"><tr><td>best_epoch</td><td>0</td></tr><tr><td>best_val_loss</td><td>0.62441</td></tr><tr><td>epoch</td><td>0</td></tr><tr><td>loss</td><td>0.73405</td></tr><tr><td>mse</td><td>1.97952</td></tr><tr><td>val_loss</td><td>0.62441</td></tr><tr><td>val_mse</td><td>2.5578</td></tr></table><br/></div></div>"
      ],
      "text/plain": [
       "<IPython.core.display.HTML object>"
      ]
     },
     "metadata": {},
     "output_type": "display_data"
    },
    {
     "data": {
      "text/html": [
       " View run <strong style=\"color:#cdcd00\">walktrhough</strong> at: <a href='https://wandb.ai/prosit-compms/dlomix_intensity/runs/dpwsufjw' target=\"_blank\">https://wandb.ai/prosit-compms/dlomix_intensity/runs/dpwsufjw</a><br/>Synced 5 W&B file(s), 1 media file(s), 4 artifact file(s) and 0 other file(s)"
      ],
      "text/plain": [
       "<IPython.core.display.HTML object>"
      ]
     },
     "metadata": {},
     "output_type": "display_data"
    },
    {
     "data": {
      "text/html": [
       "Find logs at: <code>.\\wandb\\run-20230224_124616-dpwsufjw\\logs</code>"
      ],
      "text/plain": [
       "<IPython.core.display.HTML object>"
      ]
     },
     "metadata": {},
     "output_type": "display_data"
    }
   ],
   "source": [
    "# Mark the run as finished\n",
    "\n",
    "wandb.finish()"
   ]
  },
  {
   "cell_type": "markdown",
   "metadata": {
    "id": "oukZ4AyMr7qV"
   },
   "source": [
    "## 3. Testing and Reporting\n",
    "\n",
    "We can create a test dataset to test our model. Additionally, we can use the reporting module to produce plots and evaluate the model.\n",
    "\n",
    "Note: the reporting module is still in progress and some functionalities might easily break."
   ]
  },
  {
   "cell_type": "code",
   "execution_count": null,
   "metadata": {
    "id": "ngz4zlnwr7qV",
    "scrolled": true
   },
   "outputs": [],
   "source": [
    "# create the dataset object for test data\n",
    "\n",
    "TEST_DATAPATH = 'https://raw.githubusercontent.com/wilhelm-lab/dlomix-resources/tasks/intensity/example_datasets/Intensity/proteomeTools_test.csv'\n",
    "\n",
    "test_int_data = IntensityDataset(data_source=TEST_DATAPATH,\n",
    "                              seq_length=30, collision_energy_col='collision_energy',batch_size=32, test=True)"
   ]
  },
  {
   "cell_type": "code",
   "execution_count": null,
   "metadata": {
    "id": "RrvR8Cl3r7qV",
    "scrolled": true
   },
   "outputs": [],
   "source": [
    "# use model.predict from keras directly on the testdata\n",
    "\n",
    "predictions = model.predict(test_int_data.test_data)"
   ]
  },
  {
   "cell_type": "code",
   "execution_count": null,
   "metadata": {
    "scrolled": true
   },
   "outputs": [],
   "source": [
    "predictions_df = pd.DataFrame()"
   ]
  },
  {
   "cell_type": "code",
   "execution_count": null,
   "metadata": {
    "scrolled": true
   },
   "outputs": [],
   "source": [
    "predictions"
   ]
  },
  {
   "cell_type": "code",
   "execution_count": null,
   "metadata": {
    "scrolled": true
   },
   "outputs": [],
   "source": [
    "predictions_df['sequences'] = test_rtdata.sequences\n",
    "predictions_df['intensities_pred'] = predictions.tolist()\n",
    "predictions_df['precursor_charge_onehot'] = test_rtdata.precursor_charge.tolist()\n",
    "predictions_df['intensities_raw'] = test_rtdata.intensities.tolist()\n"
   ]
  },
  {
   "cell_type": "code",
   "execution_count": null,
   "metadata": {
    "scrolled": true
   },
   "outputs": [],
   "source": [
    "predictions_acc = normalize_predictions(predictions_df)"
   ]
  },
  {
   "cell_type": "code",
   "execution_count": null,
   "metadata": {
    "scrolled": false
   },
   "outputs": [],
   "source": [
    "predictions_acc['spectral_angle'].describe()"
   ]
  },
  {
   "cell_type": "code",
   "execution_count": null,
   "metadata": {
    "scrolled": true
   },
   "outputs": [],
   "source": [
    "import seaborn as sns"
   ]
  },
  {
   "cell_type": "code",
   "execution_count": null,
   "metadata": {
    "scrolled": true
   },
   "outputs": [],
   "source": [
    "sns.violinplot(predictions_acc['spectral_angle'])"
   ]
  }
 ],
 "metadata": {
  "accelerator": "GPU",
  "colab": {
   "name": "Copy of Example_RTModel_Walkthrough.ipynb",
   "provenance": []
  },
  "kernelspec": {
   "display_name": "Python 3",
   "language": "python",
   "name": "python3"
  },
  "language_info": {
   "codemirror_mode": {
    "name": "ipython",
    "version": 3
   },
   "file_extension": ".py",
   "mimetype": "text/x-python",
   "name": "python",
   "nbconvert_exporter": "python",
   "pygments_lexer": "ipython3",
   "version": "3.6.12"
  },
  "vscode": {
   "interpreter": {
    "hash": "31f2aee4e71d21fbe5cf8b01ff0e069b9275f58929596ceb00d14d90e3e16cd6"
   }
  }
 },
 "nbformat": 4,
 "nbformat_minor": 1
}
