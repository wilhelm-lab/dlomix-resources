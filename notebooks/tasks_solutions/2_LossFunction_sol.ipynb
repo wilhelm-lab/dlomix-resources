{
  "nbformat": 4,
  "nbformat_minor": 0,
  "metadata": {
    "accelerator": "GPU",
    "colab": {
      "name": "Task B Loss Function.ipynb",
      "provenance": [],
      "collapsed_sections": [
        "41qXroyKr7qP",
        "oWeVi0iar7qT",
        "SL9ouxZ1I3PX",
        "7BCOfxhcJmTP",
        "HU6mhZcaKXcg",
        "xNtE-I_XcbY6",
        "XqIpTqy4ceuJ"
      ]
    },
    "kernelspec": {
      "display_name": "Python 3",
      "language": "python",
      "name": "python3"
    },
    "language_info": {
      "codemirror_mode": {
        "name": "ipython",
        "version": 3
      },
      "file_extension": ".py",
      "mimetype": "text/x-python",
      "name": "python",
      "nbconvert_exporter": "python",
      "pygments_lexer": "ipython3",
      "version": "3.7.9"
    }
  },
  "cells": [
    {
      "cell_type": "markdown",
      "metadata": {
        "id": "7YWkUVjVr7qJ"
      },
      "source": [
        "# Retention Time Prediction\n",
        "\n",
        "\n",
        "This notebook is prepared to be run in Google [Colaboratory](https://colab.research.google.com/). In order to train the model faster, please change the runtime of Colab to use Hardware Accelerator, either GPU or TPU."
      ]
    },
    {
      "cell_type": "markdown",
      "metadata": {
        "id": "S3DlTOq3r7qM"
      },
      "source": [
        "This notebook presents a short analysis of the Loss functions task where we  train the model with different Loss functions and analyze the results to decide which loss function works best with such a task."
      ]
    },
    {
      "cell_type": "code",
      "metadata": {
        "id": "aO-69zbKsGey",
        "scrolled": true,
        "colab": {
          "base_uri": "https://localhost:8080/"
        },
        "outputId": "f3422a59-9b72-481c-f8b2-4690550a959a"
      },
      "source": [
        "# install the dlpro package in the current environment using pip\n",
        "\n",
        "!python -m pip install -q git+https://github.com/wilhelm-lab/dlomix.git"
      ],
      "execution_count": 1,
      "outputs": [
        {
          "output_type": "stream",
          "name": "stdout",
          "text": [
            "  Building wheel for dlomix (setup.py) ... \u001b[?25l\u001b[?25hdone\n"
          ]
        }
      ]
    },
    {
      "cell_type": "markdown",
      "metadata": {
        "id": "Mo7H9qzWr7qN"
      },
      "source": [
        "The available modules in the framework are as follows:"
      ]
    },
    {
      "cell_type": "code",
      "metadata": {
        "id": "l0CS0tFur7qN"
      },
      "source": [
        "import numpy as np\n",
        "import pandas as pd\n",
        "import dlomix"
      ],
      "execution_count": 2,
      "outputs": []
    },
    {
      "cell_type": "markdown",
      "metadata": {
        "id": "41qXroyKr7qP"
      },
      "source": [
        "## 1. Load Data"
      ]
    },
    {
      "cell_type": "code",
      "metadata": {
        "id": "RiXz_epEr7qQ"
      },
      "source": [
        "from dlomix.data.RetentionTimeDataset import RetentionTimeDataset"
      ],
      "execution_count": 3,
      "outputs": []
    },
    {
      "cell_type": "code",
      "metadata": {
        "id": "lzNXJ-s6r7qQ"
      },
      "source": [
        "TRAIN_DATAPATH = 'https://raw.githubusercontent.com/wilhelm-lab/dlomix/develop/example_dataset/proteomTools_train_val.csv'\n",
        "BATCH_SIZE = 64\n",
        "\n",
        "rtdata = RetentionTimeDataset(data_source=TRAIN_DATAPATH,\n",
        "                              seq_length=30, batch_size=BATCH_SIZE, val_ratio=0.2, test=False)"
      ],
      "execution_count": 4,
      "outputs": []
    },
    {
      "cell_type": "markdown",
      "metadata": {
        "id": "_UUzvcHGr7qR"
      },
      "source": [
        "Now we have an RT dataset that can be used directly with standard or custom `Keras` models. This wrapper contains the splits we chose when creating it. In our case, they are training and validation splits. To get the TF Dataset, we call the attributes `.train_data` and `.val_data`."
      ]
    },
    {
      "cell_type": "markdown",
      "metadata": {
        "id": "oWeVi0iar7qT"
      },
      "source": [
        "## 2. Training\n",
        "\n",
        "### Loss Function\n",
        "Similar to the initial notebook we will initialize our model and train it.\n",
        "Use train_model method with 3 different loss functions and see which will be the best fit to our problem."
      ]
    },
    {
      "cell_type": "code",
      "metadata": {
        "id": "Q8SGTvfRr7qT"
      },
      "source": [
        "from dlomix.models.base import RetentionTimePredictor\n",
        "import tensorflow as tf\n",
        "from dlomix.eval.rt_eval import TimeDeltaMetric"
      ],
      "execution_count": 7,
      "outputs": []
    },
    {
      "cell_type": "code",
      "metadata": {
        "id": "u2m8ryrQiS5v"
      },
      "source": [
        "def train_model(loss_function):\n",
        "  model = RetentionTimePredictor(seq_length=30)\n",
        "  optimizer = tf.keras.optimizers.Adam(learning_rate=0.0001,decay=1e-7)\n",
        "\n",
        "  # compile the model  with the optimizer and the metrics we want to use, we can add our customer delta95 metric\n",
        "\n",
        "  model.compile(optimizer=optimizer, \n",
        "                loss=loss_function,\n",
        "                metrics=[TimeDeltaMetric(rtdata.data_mean, rtdata.data_std)])\n",
        "  history = model.fit(rtdata.train_data,\n",
        "                    validation_data=rtdata.val_data,\n",
        "                    epochs=15)\n",
        "  return history"
      ],
      "execution_count": 8,
      "outputs": []
    },
    {
      "cell_type": "markdown",
      "metadata": {
        "id": "sBziVuYOJAhG"
      },
      "source": [
        "Here we try different learning rate between 0.0001 and 0.1 and see how our losses converge."
      ]
    },
    {
      "cell_type": "code",
      "metadata": {
        "colab": {
          "base_uri": "https://localhost:8080/"
        },
        "id": "ZqrsF6APr7qU",
        "outputId": "b1bb0cfc-f042-4da4-cffb-346b5576c311"
      },
      "source": [
        "loss_functions = ['mae','mse','mape']\n",
        "history_loss = []\n",
        "for loss_func in loss_functions:\n",
        "  print('\\n')\n",
        "  print(loss_func)\n",
        "  print('\\n')\n",
        "  history_loss.append(train_model(loss_func))"
      ],
      "execution_count": 9,
      "outputs": [
        {
          "output_type": "stream",
          "name": "stdout",
          "text": [
            "\n",
            "\n",
            "mae\n",
            "\n",
            "\n",
            "Epoch 1/15\n",
            "424/424 [==============================] - 43s 25ms/step - loss: 34.1973 - timedelta: 35.9043 - val_loss: 17.9781 - val_timedelta: 17.1498\n",
            "Epoch 2/15\n",
            "424/424 [==============================] - 10s 24ms/step - loss: 14.1948 - timedelta: 15.0921 - val_loss: 11.6198 - val_timedelta: 10.8734\n",
            "Epoch 3/15\n",
            "424/424 [==============================] - 10s 24ms/step - loss: 10.5196 - timedelta: 11.4907 - val_loss: 9.8588 - val_timedelta: 9.1457\n",
            "Epoch 4/15\n",
            "424/424 [==============================] - 10s 24ms/step - loss: 9.3794 - timedelta: 10.2257 - val_loss: 9.0748 - val_timedelta: 8.3598\n",
            "Epoch 5/15\n",
            "424/424 [==============================] - 10s 24ms/step - loss: 8.8457 - timedelta: 9.6352 - val_loss: 8.7410 - val_timedelta: 8.0543\n",
            "Epoch 6/15\n",
            "424/424 [==============================] - 10s 24ms/step - loss: 8.5681 - timedelta: 9.3824 - val_loss: 8.5792 - val_timedelta: 8.0009\n",
            "Epoch 7/15\n",
            "424/424 [==============================] - 10s 24ms/step - loss: 8.3562 - timedelta: 9.1292 - val_loss: 8.3883 - val_timedelta: 7.7651\n",
            "Epoch 8/15\n",
            "424/424 [==============================] - 10s 24ms/step - loss: 8.1660 - timedelta: 8.8505 - val_loss: 8.1749 - val_timedelta: 7.5201\n",
            "Epoch 9/15\n",
            "424/424 [==============================] - 10s 24ms/step - loss: 7.9703 - timedelta: 8.5647 - val_loss: 7.9821 - val_timedelta: 7.2486\n",
            "Epoch 10/15\n",
            "424/424 [==============================] - 10s 25ms/step - loss: 7.7877 - timedelta: 8.3688 - val_loss: 7.7938 - val_timedelta: 7.0901\n",
            "Epoch 11/15\n",
            "424/424 [==============================] - 10s 24ms/step - loss: 7.6391 - timedelta: 8.1367 - val_loss: 7.7308 - val_timedelta: 7.1397\n",
            "Epoch 12/15\n",
            "424/424 [==============================] - 10s 24ms/step - loss: 7.4563 - timedelta: 8.0265 - val_loss: 7.6717 - val_timedelta: 7.1501\n",
            "Epoch 13/15\n",
            "424/424 [==============================] - 10s 24ms/step - loss: 7.3203 - timedelta: 7.9453 - val_loss: 7.5024 - val_timedelta: 7.1090\n",
            "Epoch 14/15\n",
            "424/424 [==============================] - 10s 24ms/step - loss: 7.1785 - timedelta: 7.8407 - val_loss: 7.3368 - val_timedelta: 6.9325\n",
            "Epoch 15/15\n",
            "424/424 [==============================] - 10s 24ms/step - loss: 7.0726 - timedelta: 7.6868 - val_loss: 7.2244 - val_timedelta: 6.8965\n",
            "\n",
            "\n",
            "mse\n",
            "\n",
            "\n",
            "Epoch 1/15\n",
            "424/424 [==============================] - 11s 23ms/step - loss: 2101.3745 - timedelta: 37.7706 - val_loss: 596.6749 - val_timedelta: 18.4972\n",
            "Epoch 2/15\n",
            "424/424 [==============================] - 10s 23ms/step - loss: 372.3442 - timedelta: 16.2198 - val_loss: 259.9387 - val_timedelta: 11.5340\n",
            "Epoch 3/15\n",
            "424/424 [==============================] - 10s 23ms/step - loss: 225.4630 - timedelta: 12.3036 - val_loss: 192.8244 - val_timedelta: 9.9593\n",
            "Epoch 4/15\n",
            "424/424 [==============================] - 10s 24ms/step - loss: 181.6390 - timedelta: 10.9538 - val_loss: 170.6258 - val_timedelta: 8.9312\n",
            "Epoch 5/15\n",
            "424/424 [==============================] - 10s 24ms/step - loss: 164.6372 - timedelta: 10.2644 - val_loss: 158.5925 - val_timedelta: 8.4311\n",
            "Epoch 6/15\n",
            "424/424 [==============================] - 10s 23ms/step - loss: 153.4758 - timedelta: 9.8537 - val_loss: 149.5307 - val_timedelta: 8.1320\n",
            "Epoch 7/15\n",
            "424/424 [==============================] - 10s 24ms/step - loss: 145.2013 - timedelta: 9.5555 - val_loss: 142.7140 - val_timedelta: 7.9555\n",
            "Epoch 8/15\n",
            "424/424 [==============================] - 10s 24ms/step - loss: 138.4173 - timedelta: 9.2888 - val_loss: 136.9290 - val_timedelta: 7.8720\n",
            "Epoch 9/15\n",
            "424/424 [==============================] - 10s 24ms/step - loss: 132.3180 - timedelta: 9.0622 - val_loss: 131.7139 - val_timedelta: 7.8163\n",
            "Epoch 10/15\n",
            "424/424 [==============================] - 10s 23ms/step - loss: 126.7639 - timedelta: 8.8396 - val_loss: 127.3986 - val_timedelta: 7.7404\n",
            "Epoch 11/15\n",
            "424/424 [==============================] - 10s 24ms/step - loss: 121.4019 - timedelta: 8.5855 - val_loss: 123.0818 - val_timedelta: 7.6575\n",
            "Epoch 12/15\n",
            "424/424 [==============================] - 10s 24ms/step - loss: 116.1201 - timedelta: 8.3601 - val_loss: 118.5015 - val_timedelta: 7.5687\n",
            "Epoch 13/15\n",
            "424/424 [==============================] - 10s 23ms/step - loss: 111.1394 - timedelta: 8.1827 - val_loss: 114.3555 - val_timedelta: 7.4958\n",
            "Epoch 14/15\n",
            "424/424 [==============================] - 10s 24ms/step - loss: 106.8700 - timedelta: 8.0382 - val_loss: 110.4553 - val_timedelta: 7.4490\n",
            "Epoch 15/15\n",
            "424/424 [==============================] - 10s 23ms/step - loss: 103.3465 - timedelta: 7.8912 - val_loss: 107.4671 - val_timedelta: 7.4336\n",
            "\n",
            "\n",
            "mape\n",
            "\n",
            "\n",
            "Epoch 1/15\n",
            "424/424 [==============================] - 11s 24ms/step - loss: 6636.0518 - timedelta: 65.4405 - val_loss: 6793.6172 - val_timedelta: 75.5235\n",
            "Epoch 2/15\n",
            "424/424 [==============================] - 10s 23ms/step - loss: 2555.9062 - timedelta: 65.4529 - val_loss: 4429.8232 - val_timedelta: 75.5441\n",
            "Epoch 3/15\n",
            "424/424 [==============================] - 10s 24ms/step - loss: 2994.0222 - timedelta: 65.4519 - val_loss: 1372.4916 - val_timedelta: 75.5365\n",
            "Epoch 4/15\n",
            "424/424 [==============================] - 10s 23ms/step - loss: 1412.0568 - timedelta: 65.4531 - val_loss: 1861.0057 - val_timedelta: 75.5426\n",
            "Epoch 5/15\n",
            "424/424 [==============================] - 10s 24ms/step - loss: 1189.9250 - timedelta: 65.4588 - val_loss: 1055.4929 - val_timedelta: 75.5425\n",
            "Epoch 6/15\n",
            "424/424 [==============================] - 10s 24ms/step - loss: 948.3668 - timedelta: 65.4574 - val_loss: 1113.0248 - val_timedelta: 75.5398\n",
            "Epoch 7/15\n",
            "424/424 [==============================] - 10s 24ms/step - loss: 843.9390 - timedelta: 65.4566 - val_loss: 782.1367 - val_timedelta: 75.5388\n",
            "Epoch 8/15\n",
            "424/424 [==============================] - 10s 24ms/step - loss: 1311.1067 - timedelta: 65.4520 - val_loss: 1268.4722 - val_timedelta: 75.5404\n",
            "Epoch 9/15\n",
            "424/424 [==============================] - 10s 24ms/step - loss: 1223.6765 - timedelta: 65.4492 - val_loss: 850.6827 - val_timedelta: 75.5373\n",
            "Epoch 10/15\n",
            "424/424 [==============================] - 10s 24ms/step - loss: 566.9872 - timedelta: 65.4274 - val_loss: 2729.8582 - val_timedelta: 75.4781\n",
            "Epoch 11/15\n",
            "424/424 [==============================] - 10s 23ms/step - loss: 694.4777 - timedelta: 65.3576 - val_loss: 6792.8071 - val_timedelta: 75.3361\n",
            "Epoch 12/15\n",
            "424/424 [==============================] - 10s 23ms/step - loss: 630.5002 - timedelta: 65.1635 - val_loss: 19822.3594 - val_timedelta: 75.0612\n",
            "Epoch 13/15\n",
            "424/424 [==============================] - 10s 24ms/step - loss: 660.3066 - timedelta: 65.0450 - val_loss: 6704.6035 - val_timedelta: 74.9394\n",
            "Epoch 14/15\n",
            "424/424 [==============================] - 10s 24ms/step - loss: 364.1985 - timedelta: 64.8357 - val_loss: 15404.8916 - val_timedelta: 74.6187\n",
            "Epoch 15/15\n",
            "424/424 [==============================] - 10s 24ms/step - loss: 394.1571 - timedelta: 64.5600 - val_loss: 22243.4590 - val_timedelta: 74.2556\n"
          ]
        }
      ]
    },
    {
      "cell_type": "markdown",
      "metadata": {
        "id": "SL9ouxZ1I3PX"
      },
      "source": [
        "## 3. Analysis\n",
        "\n",
        "After Training 3 models with different Loss functions we will analyze it to figure out which was the best learning rate to use for our problem.\n",
        "\n",
        "Since we are comparing different loss functions here, we can't compare different models on the loss we would use then a metric to do that in our case delta95 which can help to check how far our predictions from the true values and how accurate our overall model is.\n",
        "\n",
        "We will plot loss curve here to see if there is any sign of overfitting and check if the loss function is suitable for the problem in hand."
      ]
    },
    {
      "cell_type": "code",
      "metadata": {
        "id": "6othBle0J0Ux"
      },
      "source": [
        "from dlomix.reports.RetentionTimeReport import RetentionTimeReport"
      ],
      "execution_count": 10,
      "outputs": []
    },
    {
      "cell_type": "markdown",
      "metadata": {
        "id": "7BCOfxhcJmTP"
      },
      "source": [
        "#### Loss Function: Mean Absolute Error"
      ]
    },
    {
      "cell_type": "code",
      "metadata": {
        "id": "i4g6UoH5Jfrf"
      },
      "source": [
        "report = RetentionTimeReport(output_path=\"./output\", history=history_loss[0])"
      ],
      "execution_count": 11,
      "outputs": []
    },
    {
      "cell_type": "code",
      "metadata": {
        "id": "PW7JMk7vKEVL",
        "colab": {
          "base_uri": "https://localhost:8080/",
          "height": 295
        },
        "outputId": "cfbd6e28-6d06-4d4f-f67b-4366e2d8749d"
      },
      "source": [
        "report.plot_keras_metric(\"loss\")"
      ],
      "execution_count": 12,
      "outputs": [
        {
          "output_type": "display_data",
          "data": {
            "image/png": "[encoded data removed]",
            "text/plain": [
              "<Figure size 432x288 with 1 Axes>"
            ]
          },
          "metadata": {
            "needs_background": "light"
          }
        }
      ]
    },
    {
      "cell_type": "code",
      "metadata": {
        "id": "0VAjOgFRKQJI",
        "colab": {
          "base_uri": "https://localhost:8080/",
          "height": 295
        },
        "outputId": "0331de87-71fe-4322-cb56-966246548757"
      },
      "source": [
        "report.plot_keras_metric(\"timedelta\")"
      ],
      "execution_count": 14,
      "outputs": [
        {
          "output_type": "display_data",
          "data": {
            "image/png": "[encoded data removed]",
            "text/plain": [
              "<Figure size 432x288 with 1 Axes>"
            ]
          },
          "metadata": {
            "needs_background": "light"
          }
        }
      ]
    },
    {
      "cell_type": "markdown",
      "metadata": {
        "id": "HU6mhZcaKXcg"
      },
      "source": [
        "#### Loss Function: Mean Squared Error\n",
        "\n"
      ]
    },
    {
      "cell_type": "code",
      "metadata": {
        "id": "MOGIVKwkKWBC"
      },
      "source": [
        "report = RetentionTimeReport(output_path=\"./output\", history=history_loss[1])"
      ],
      "execution_count": 15,
      "outputs": []
    },
    {
      "cell_type": "code",
      "metadata": {
        "id": "t2fr0Ba0KgcF",
        "colab": {
          "base_uri": "https://localhost:8080/",
          "height": 295
        },
        "outputId": "c8e24261-ef7b-4092-f243-27c146a219d5"
      },
      "source": [
        "report.plot_keras_metric(\"loss\")"
      ],
      "execution_count": 16,
      "outputs": [
        {
          "output_type": "display_data",
          "data": {
            "image/png": "[encoded data removed]",
            "text/plain": [
              "<Figure size 432x288 with 1 Axes>"
            ]
          },
          "metadata": {
            "needs_background": "light"
          }
        }
      ]
    },
    {
      "cell_type": "code",
      "metadata": {
        "id": "aIrg6cGkKnOP",
        "colab": {
          "base_uri": "https://localhost:8080/",
          "height": 295
        },
        "outputId": "e9f2a429-6e60-43da-c751-697b71cc4367"
      },
      "source": [
        "report.plot_keras_metric(\"timedelta\")"
      ],
      "execution_count": 17,
      "outputs": [
        {
          "output_type": "display_data",
          "data": {
            "image/png": "[encoded data removed]",
            "text/plain": [
              "<Figure size 432x288 with 1 Axes>"
            ]
          },
          "metadata": {
            "needs_background": "light"
          }
        }
      ]
    },
    {
      "cell_type": "markdown",
      "metadata": {
        "id": "xNtE-I_XcbY6"
      },
      "source": [
        "#### Loss Function: Mean Absolute Percentage\n"
      ]
    },
    {
      "cell_type": "code",
      "metadata": {
        "id": "JznN9Fo0YZO6"
      },
      "source": [
        "report = RetentionTimeReport(output_path=\"./output\", history=history_loss[2])"
      ],
      "execution_count": 18,
      "outputs": []
    },
    {
      "cell_type": "code",
      "metadata": {
        "id": "_RuUtvALYlaN",
        "colab": {
          "base_uri": "https://localhost:8080/",
          "height": 295
        },
        "outputId": "daf7f8bd-89db-45ac-c0bf-a2232c673b03"
      },
      "source": [
        "report.plot_keras_metric(\"loss\")"
      ],
      "execution_count": 19,
      "outputs": [
        {
          "output_type": "display_data",
          "data": {
            "image/png": "[encoded data removed]",
            "text/plain": [
              "<Figure size 432x288 with 1 Axes>"
            ]
          },
          "metadata": {
            "needs_background": "light"
          }
        }
      ]
    },
    {
      "cell_type": "code",
      "metadata": {
        "id": "ZscBrGEFYsSh",
        "colab": {
          "base_uri": "https://localhost:8080/",
          "height": 295
        },
        "outputId": "48ecb468-e075-4ee2-830d-274f725e50e9"
      },
      "source": [
        "report.plot_keras_metric(\"timedelta\")"
      ],
      "execution_count": 20,
      "outputs": [
        {
          "output_type": "display_data",
          "data": {
            "image/png": "[encoded data removed]",
            "text/plain": [
              "<Figure size 432x288 with 1 Axes>"
            ]
          },
          "metadata": {
            "needs_background": "light"
          }
        }
      ]
    },
    {
      "cell_type": "markdown",
      "metadata": {
        "id": "ymmT-mc8cmMU"
      },
      "source": [
        "## 4. Conclusion\n",
        "\n"
      ]
    },
    {
      "cell_type": "markdown",
      "metadata": {
        "id": "mgY_WEMwikzi"
      },
      "source": [
        "#### Mean Absolute Percentage Error"
      ]
    },
    {
      "cell_type": "markdown",
      "metadata": {
        "id": "e_LI1_qKgDq6"
      },
      "source": [
        "We can see that using MAPE can't really work here, it's clear from the loss curves that val loss explode after 8 epochs and model didn't recover after this. Also for our metric it had the worst time delta."
      ]
    },
    {
      "cell_type": "markdown",
      "metadata": {
        "id": "XoVBdzFfd9rY"
      },
      "source": [
        "#### Mean Absolute Error (MAE) vs. Mean Squared Error (MSE)\n"
      ]
    },
    {
      "cell_type": "markdown",
      "metadata": {
        "id": "k7NYqqTtjDWX"
      },
      "source": [
        "Both loss functions seem to work here, but plotting only loss wouldn't help to differentiate. When comparing delta95 for both we can see that Mean absolute error is slightly better which would make it the preffered loss function for this problem.\n",
        "\n",
        "Note: This doesn't generalize we can't say MAE is better than MSE in general just based on this example."
      ]
    }
  ]
}