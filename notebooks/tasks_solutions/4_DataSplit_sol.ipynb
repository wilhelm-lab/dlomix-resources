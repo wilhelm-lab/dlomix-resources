{
  "nbformat": 4,
  "nbformat_minor": 0,
  "metadata": {
    "accelerator": "GPU",
    "colab": {
      "name": "Task D Data Splits.ipynb",
      "provenance": [],
      "collapsed_sections": [
        "41qXroyKr7qP",
        "oWeVi0iar7qT",
        "SL9ouxZ1I3PX",
        "7BCOfxhcJmTP",
        "HU6mhZcaKXcg",
        "xNtE-I_XcbY6",
        "XqIpTqy4ceuJ"
      ]
    },
    "kernelspec": {
      "display_name": "Python 3",
      "language": "python",
      "name": "python3"
    },
    "language_info": {
      "codemirror_mode": {
        "name": "ipython",
        "version": 3
      },
      "file_extension": ".py",
      "mimetype": "text/x-python",
      "name": "python",
      "nbconvert_exporter": "python",
      "pygments_lexer": "ipython3",
      "version": "3.7.9"
    }
  },
  "cells": [
    {
      "cell_type": "markdown",
      "metadata": {
        "id": "7YWkUVjVr7qJ"
      },
      "source": [
        "# Retention Time Prediction\n",
        "\n",
        "\n",
        "This notebook is prepared to be run in Google [Colaboratory](https://colab.research.google.com/). In order to train the model faster, please change the runtime of Colab to use Hardware Accelerator, either GPU or TPU."
      ]
    },
    {
      "cell_type": "markdown",
      "metadata": {
        "id": "S3DlTOq3r7qM"
      },
      "source": [
        "This notebook presents a short analysis of the Loss functions task where we  train the model with different Loss functions and analyze the results to decide which loss function works best with such a task."
      ]
    },
    {
      "cell_type": "code",
      "metadata": {
        "id": "aO-69zbKsGey",
        "scrolled": true,
        "colab": {
          "base_uri": "https://localhost:8080/"
        },
        "outputId": "962cbd27-0fec-439a-f1a9-a5f7a06a2edf"
      },
      "source": [
        "# install the dlpro package in the current environment using pip\n",
        "\n",
        "!python -m pip install -q git+https://github.com/wilhelm-lab/dlomix.git"
      ],
      "execution_count": 2,
      "outputs": [
        {
          "output_type": "stream",
          "name": "stdout",
          "text": [
            "  Building wheel for dlomix (setup.py) ... \u001b[?25l\u001b[?25hdone\n"
          ]
        }
      ]
    },
    {
      "cell_type": "markdown",
      "metadata": {
        "id": "Mo7H9qzWr7qN"
      },
      "source": [
        "The available modules in the framework are as follows:"
      ]
    },
    {
      "cell_type": "code",
      "metadata": {
        "id": "l0CS0tFur7qN"
      },
      "source": [
        "import numpy as np\n",
        "import pandas as pd\n",
        "import dlomix"
      ],
      "execution_count": 3,
      "outputs": []
    },
    {
      "cell_type": "markdown",
      "metadata": {
        "id": "oWeVi0iar7qT"
      },
      "source": [
        "## 1. Load Data and Training\n",
        "\n",
        "### Learning Rate\n",
        "Similar to the initial notebook we will initialize our model and train it.\n",
        "Use train_model method with different learning rates and check which learning rate would be the best to work with our dataset."
      ]
    },
    {
      "cell_type": "code",
      "metadata": {
        "id": "16pvHpbhZYtk"
      },
      "source": [
        "from dlomix.models.base import RetentionTimePredictor\n",
        "import tensorflow as tf\n",
        "from dlomix.eval.rt_eval import TimeDeltaMetric\n",
        "from dlomix.data.RetentionTimeDataset import RetentionTimeDataset"
      ],
      "execution_count": 4,
      "outputs": []
    },
    {
      "cell_type": "code",
      "metadata": {
        "id": "FhvZZHd9ZGmy"
      },
      "source": [
        "def intialize_train_model(data_path):\n",
        "  rtdata = RetentionTimeDataset(data_source=data_path,\n",
        "                              seq_length=30, batch_size=64, val_ratio=0.2, test=False)\n",
        "  model = RetentionTimePredictor(seq_length=30)\n",
        "  optimizer = tf.keras.optimizers.Adam(learning_rate=0.0001,decay=1e-7)\n",
        "\n",
        "  # compile the model  with the optimizer and the metrics we want to use, we can add our customer delta95 metric\n",
        "\n",
        "  model.compile(optimizer=optimizer, \n",
        "                loss='mse',\n",
        "                metrics=['mean_absolute_error', TimeDeltaMetric(rtdata.data_mean, rtdata.data_std)])\n",
        "  history = model.fit(rtdata.train_data,\n",
        "                    validation_data=rtdata.val_data,\n",
        "                    epochs=15)\n",
        "  return model, history"
      ],
      "execution_count": 11,
      "outputs": []
    },
    {
      "cell_type": "code",
      "metadata": {
        "id": "MSBt0M6RZJey"
      },
      "source": [
        "TRAIN_DATAPATH_A = 'https://raw.githubusercontent.com/wilhelm-lab/dlomix-resources/main/example_dataset/split_a/proteomTools_train_val_a.csv'\n",
        "TRAIN_DATAPATH_B = 'https://raw.githubusercontent.com/wilhelm-lab/dlomix-resources/main/example_dataset/split_b/proteomTools_train_val_b.csv'\n",
        "\n",
        "TEST_DATAPATH_A = 'https://raw.githubusercontent.com/wilhelm-lab/dlomix-resources/main/example_dataset/split_a/proteomTools_test_a.csv'\n",
        "TEST_DATAPATH_B = 'https://raw.githubusercontent.com/wilhelm-lab/dlomix-resources/main/example_dataset/split_b/proteomTools_test_b.csv'"
      ],
      "execution_count": 6,
      "outputs": []
    },
    {
      "cell_type": "code",
      "metadata": {
        "colab": {
          "base_uri": "https://localhost:8080/"
        },
        "id": "bzDn7p1M9mvH",
        "outputId": "0fef758c-9aeb-4cc7-81ce-8e868676d67a"
      },
      "source": [
        "data_splits_history = []\n",
        "data_splits_models = []\n",
        "\n",
        "print('train with split a')\n",
        "m1, h1 = intialize_train_model(TRAIN_DATAPATH_A)\n",
        "data_splits_history.append(h1)\n",
        "data_splits_models.append(m1)\n",
        "\n",
        "print('\\n')\n",
        "print('train with split b')\n",
        "m2, h2 = intialize_train_model(TRAIN_DATAPATH_B)\n",
        "data_splits_history.append(h2)\n",
        "data_splits_models.append(m2)"
      ],
      "execution_count": 12,
      "outputs": [
        {
          "output_type": "stream",
          "name": "stdout",
          "text": [
            "train with split a\n",
            "Epoch 1/15\n",
            "398/398 [==============================] - 10s 22ms/step - loss: 1965.1569 - mean_absolute_error: 34.6943 - timedelta: 34.1642 - val_loss: 490.3186 - val_mean_absolute_error: 17.8240 - val_timedelta: 16.5785\n",
            "Epoch 2/15\n",
            "398/398 [==============================] - 9s 22ms/step - loss: 300.8969 - mean_absolute_error: 13.3978 - timedelta: 13.9743 - val_loss: 199.8465 - val_mean_absolute_error: 10.5683 - val_timedelta: 10.3030\n",
            "Epoch 3/15\n",
            "398/398 [==============================] - 9s 22ms/step - loss: 174.0308 - mean_absolute_error: 9.8437 - timedelta: 10.7221 - val_loss: 154.8997 - val_mean_absolute_error: 9.0572 - val_timedelta: 8.8899\n",
            "Epoch 4/15\n",
            "398/398 [==============================] - 9s 22ms/step - loss: 150.0511 - mean_absolute_error: 9.0183 - timedelta: 9.7775 - val_loss: 143.2446 - val_mean_absolute_error: 8.6424 - val_timedelta: 8.3837\n",
            "Epoch 5/15\n",
            "398/398 [==============================] - 9s 22ms/step - loss: 140.8932 - mean_absolute_error: 8.6795 - timedelta: 9.3661 - val_loss: 136.6990 - val_mean_absolute_error: 8.4001 - val_timedelta: 8.0738\n",
            "Epoch 6/15\n",
            "398/398 [==============================] - 9s 22ms/step - loss: 134.7509 - mean_absolute_error: 8.4450 - timedelta: 9.0466 - val_loss: 131.2467 - val_mean_absolute_error: 8.1972 - val_timedelta: 7.8334\n",
            "Epoch 7/15\n",
            "398/398 [==============================] - 9s 22ms/step - loss: 129.4324 - mean_absolute_error: 8.2395 - timedelta: 8.7688 - val_loss: 126.4444 - val_mean_absolute_error: 8.0111 - val_timedelta: 7.6506\n",
            "Epoch 8/15\n",
            "398/398 [==============================] - 9s 22ms/step - loss: 124.5904 - mean_absolute_error: 8.0521 - timedelta: 8.5289 - val_loss: 122.1873 - val_mean_absolute_error: 7.8305 - val_timedelta: 7.5352\n",
            "Epoch 9/15\n",
            "398/398 [==============================] - 9s 22ms/step - loss: 120.0504 - mean_absolute_error: 7.8702 - timedelta: 8.2957 - val_loss: 118.2431 - val_mean_absolute_error: 7.6593 - val_timedelta: 7.4076\n",
            "Epoch 10/15\n",
            "398/398 [==============================] - 9s 22ms/step - loss: 115.7863 - mean_absolute_error: 7.6947 - timedelta: 8.0629 - val_loss: 114.3985 - val_mean_absolute_error: 7.4972 - val_timedelta: 7.2586\n",
            "Epoch 11/15\n",
            "398/398 [==============================] - 9s 22ms/step - loss: 111.6757 - mean_absolute_error: 7.5187 - timedelta: 7.8281 - val_loss: 110.5417 - val_mean_absolute_error: 7.3322 - val_timedelta: 7.1188\n",
            "Epoch 12/15\n",
            "398/398 [==============================] - 9s 22ms/step - loss: 107.7329 - mean_absolute_error: 7.3446 - timedelta: 7.5820 - val_loss: 106.5649 - val_mean_absolute_error: 7.1721 - val_timedelta: 7.0007\n",
            "Epoch 13/15\n",
            "398/398 [==============================] - 9s 22ms/step - loss: 104.0086 - mean_absolute_error: 7.1805 - timedelta: 7.3235 - val_loss: 102.8391 - val_mean_absolute_error: 7.0262 - val_timedelta: 6.9061\n",
            "Epoch 14/15\n",
            "398/398 [==============================] - 9s 22ms/step - loss: 100.7801 - mean_absolute_error: 7.0354 - timedelta: 7.0984 - val_loss: 99.7797 - val_mean_absolute_error: 6.9052 - val_timedelta: 6.8356\n",
            "Epoch 15/15\n",
            "398/398 [==============================] - 9s 22ms/step - loss: 97.9916 - mean_absolute_error: 6.9107 - timedelta: 6.9525 - val_loss: 97.1227 - val_mean_absolute_error: 6.8030 - val_timedelta: 6.7685\n",
            "\n",
            "\n",
            "train with split b\n",
            "Epoch 1/15\n",
            "390/390 [==============================] - 9s 22ms/step - loss: 1237.0516 - mean_absolute_error: 28.6802 - timedelta: 28.2520 - val_loss: 506.0113 - val_mean_absolute_error: 18.5415 - val_timedelta: 16.7251\n",
            "Epoch 2/15\n",
            "390/390 [==============================] - 8s 21ms/step - loss: 307.1000 - mean_absolute_error: 13.9871 - timedelta: 14.9423 - val_loss: 192.5872 - val_mean_absolute_error: 10.8366 - val_timedelta: 10.5796\n",
            "Epoch 3/15\n",
            "390/390 [==============================] - 8s 22ms/step - loss: 154.8216 - mean_absolute_error: 9.6148 - timedelta: 9.1633 - val_loss: 121.5709 - val_mean_absolute_error: 8.3595 - val_timedelta: 7.8311\n",
            "Epoch 4/15\n",
            "390/390 [==============================] - 9s 22ms/step - loss: 114.8415 - mean_absolute_error: 8.1682 - timedelta: 7.6143 - val_loss: 103.6419 - val_mean_absolute_error: 7.6509 - val_timedelta: 7.1308\n",
            "Epoch 5/15\n",
            "390/390 [==============================] - 8s 22ms/step - loss: 102.1169 - mean_absolute_error: 7.6288 - timedelta: 7.1514 - val_loss: 95.4324 - val_mean_absolute_error: 7.2876 - val_timedelta: 6.8433\n",
            "Epoch 6/15\n",
            "390/390 [==============================] - 9s 22ms/step - loss: 95.2602 - mean_absolute_error: 7.3189 - timedelta: 6.8934 - val_loss: 90.2424 - val_mean_absolute_error: 7.0510 - val_timedelta: 6.6593\n",
            "Epoch 7/15\n",
            "390/390 [==============================] - 9s 22ms/step - loss: 90.6110 - mean_absolute_error: 7.1016 - timedelta: 6.6962 - val_loss: 86.4103 - val_mean_absolute_error: 6.8698 - val_timedelta: 6.5037\n",
            "Epoch 8/15\n",
            "390/390 [==============================] - 9s 22ms/step - loss: 86.9309 - mean_absolute_error: 6.9269 - timedelta: 6.5168 - val_loss: 83.2213 - val_mean_absolute_error: 6.7134 - val_timedelta: 6.3776\n",
            "Epoch 9/15\n",
            "390/390 [==============================] - 9s 22ms/step - loss: 83.7518 - mean_absolute_error: 6.7742 - timedelta: 6.3385 - val_loss: 80.2897 - val_mean_absolute_error: 6.5656 - val_timedelta: 6.2899\n",
            "Epoch 10/15\n",
            "390/390 [==============================] - 9s 23ms/step - loss: 80.7998 - mean_absolute_error: 6.6292 - timedelta: 6.1625 - val_loss: 77.7831 - val_mean_absolute_error: 6.4271 - val_timedelta: 6.2069\n",
            "Epoch 11/15\n",
            "390/390 [==============================] - 9s 23ms/step - loss: 78.1615 - mean_absolute_error: 6.4982 - timedelta: 6.0135 - val_loss: 75.3677 - val_mean_absolute_error: 6.2975 - val_timedelta: 6.1196\n",
            "Epoch 12/15\n",
            "390/390 [==============================] - 9s 22ms/step - loss: 75.7450 - mean_absolute_error: 6.3763 - timedelta: 5.8790 - val_loss: 73.3200 - val_mean_absolute_error: 6.1821 - val_timedelta: 6.0706\n",
            "Epoch 13/15\n",
            "390/390 [==============================] - 9s 22ms/step - loss: 73.5509 - mean_absolute_error: 6.2614 - timedelta: 5.7633 - val_loss: 71.5651 - val_mean_absolute_error: 6.0816 - val_timedelta: 6.0327\n",
            "Epoch 14/15\n",
            "390/390 [==============================] - 9s 22ms/step - loss: 71.6343 - mean_absolute_error: 6.1584 - timedelta: 5.6555 - val_loss: 70.0831 - val_mean_absolute_error: 5.9975 - val_timedelta: 6.0012\n",
            "Epoch 15/15\n",
            "390/390 [==============================] - 8s 22ms/step - loss: 69.9414 - mean_absolute_error: 6.0668 - timedelta: 5.5687 - val_loss: 68.6862 - val_mean_absolute_error: 5.9187 - val_timedelta: 5.9475\n"
          ]
        }
      ]
    },
    {
      "cell_type": "markdown",
      "metadata": {
        "id": "SL9ouxZ1I3PX"
      },
      "source": [
        "## 2. Analysis"
      ]
    },
    {
      "cell_type": "markdown",
      "metadata": {
        "id": "lNEA10pnmy-Q"
      },
      "source": [
        "### A. Training and Validation"
      ]
    },
    {
      "cell_type": "code",
      "metadata": {
        "id": "6othBle0J0Ux"
      },
      "source": [
        "from dlomix.reports.RetentionTimeReport import RetentionTimeReport"
      ],
      "execution_count": 13,
      "outputs": []
    },
    {
      "cell_type": "markdown",
      "metadata": {
        "id": "7BCOfxhcJmTP"
      },
      "source": [
        "#### Data Split A\n",
        "\n"
      ]
    },
    {
      "cell_type": "code",
      "metadata": {
        "id": "i4g6UoH5Jfrf"
      },
      "source": [
        "report_a = RetentionTimeReport(output_path=\"./output\", history=h1)"
      ],
      "execution_count": 41,
      "outputs": []
    },
    {
      "cell_type": "code",
      "metadata": {
        "id": "PW7JMk7vKEVL",
        "colab": {
          "base_uri": "https://localhost:8080/",
          "height": 295
        },
        "outputId": "b7030a0c-4dc9-490e-a02f-2e35161a8bdf"
      },
      "source": [
        "report_a.plot_keras_metric(\"loss\")"
      ],
      "execution_count": 15,
      "outputs": [
        {
          "output_type": "display_data",
          "data": {
            "image/png": "[encoded data removed]",
            "text/plain": [
              "<Figure size 432x288 with 1 Axes>"
            ]
          },
          "metadata": {
            "needs_background": "light"
          }
        }
      ]
    },
    {
      "cell_type": "code",
      "metadata": {
        "id": "pLRVq6mMKKRQ",
        "colab": {
          "base_uri": "https://localhost:8080/",
          "height": 295
        },
        "outputId": "d9fb01ab-b2ef-4240-afed-e58146b9f88c"
      },
      "source": [
        "report_a.plot_keras_metric(\"mean_absolute_error\")"
      ],
      "execution_count": 16,
      "outputs": [
        {
          "output_type": "display_data",
          "data": {
            "image/png": "[encoded data removed]",
            "text/plain": [
              "<Figure size 432x288 with 1 Axes>"
            ]
          },
          "metadata": {
            "needs_background": "light"
          }
        }
      ]
    },
    {
      "cell_type": "code",
      "metadata": {
        "id": "0VAjOgFRKQJI",
        "colab": {
          "base_uri": "https://localhost:8080/",
          "height": 295
        },
        "outputId": "cf17f3d1-9d5b-4fbd-a585-cc5e70582935"
      },
      "source": [
        "report_a.plot_keras_metric(\"timedelta\")"
      ],
      "execution_count": 17,
      "outputs": [
        {
          "output_type": "display_data",
          "data": {
            "image/png": "[encoded data removed]",
            "text/plain": [
              "<Figure size 432x288 with 1 Axes>"
            ]
          },
          "metadata": {
            "needs_background": "light"
          }
        }
      ]
    },
    {
      "cell_type": "markdown",
      "metadata": {
        "id": "HU6mhZcaKXcg"
      },
      "source": [
        "#### Data Split B\n",
        "\n"
      ]
    },
    {
      "cell_type": "code",
      "metadata": {
        "id": "MOGIVKwkKWBC"
      },
      "source": [
        "report_b = RetentionTimeReport(output_path=\"./output\", history=h2)"
      ],
      "execution_count": 59,
      "outputs": []
    },
    {
      "cell_type": "code",
      "metadata": {
        "id": "t2fr0Ba0KgcF",
        "colab": {
          "base_uri": "https://localhost:8080/",
          "height": 295
        },
        "outputId": "e7689da3-fd5c-48a0-9e3f-8b64bdafabea"
      },
      "source": [
        "report_b.plot_keras_metric(\"loss\")"
      ],
      "execution_count": 19,
      "outputs": [
        {
          "output_type": "display_data",
          "data": {
            "image/png": "[encoded data removed]",
            "text/plain": [
              "<Figure size 432x288 with 1 Axes>"
            ]
          },
          "metadata": {
            "needs_background": "light"
          }
        }
      ]
    },
    {
      "cell_type": "code",
      "metadata": {
        "id": "sKkFqyFbKik9",
        "colab": {
          "base_uri": "https://localhost:8080/",
          "height": 295
        },
        "outputId": "3c0c4906-be26-420f-ec94-94eb1d61a111"
      },
      "source": [
        "report_b.plot_keras_metric(\"mean_absolute_error\")"
      ],
      "execution_count": 20,
      "outputs": [
        {
          "output_type": "display_data",
          "data": {
            "image/png": "[encoded data removed]",
            "text/plain": [
              "<Figure size 432x288 with 1 Axes>"
            ]
          },
          "metadata": {
            "needs_background": "light"
          }
        }
      ]
    },
    {
      "cell_type": "code",
      "metadata": {
        "id": "aIrg6cGkKnOP",
        "colab": {
          "base_uri": "https://localhost:8080/",
          "height": 295
        },
        "outputId": "73379eaa-7afb-446e-b454-53feb14365ea"
      },
      "source": [
        "report_b.plot_keras_metric(\"timedelta\")"
      ],
      "execution_count": 21,
      "outputs": [
        {
          "output_type": "display_data",
          "data": {
            "image/png": "[encoded data removed]",
            "text/plain": [
              "<Figure size 432x288 with 1 Axes>"
            ]
          },
          "metadata": {
            "needs_background": "light"
          }
        }
      ]
    },
    {
      "cell_type": "markdown",
      "metadata": {
        "id": "xNtE-I_XcbY6"
      },
      "source": [
        "### B. Holdout\n",
        "\n",
        "While the model seems suffeciently good when we check the loss curves, since we changed how we split our data we wanted to further investigate how this would affect our predictions"
      ]
    },
    {
      "cell_type": "markdown",
      "metadata": {
        "id": "6vCUVvRoC84P"
      },
      "source": [
        "#### Data Split A"
      ]
    },
    {
      "cell_type": "code",
      "metadata": {
        "id": "JznN9Fo0YZO6"
      },
      "source": [
        "test_rtdata = RetentionTimeDataset(data_source=TEST_DATAPATH_A,\n",
        "                              seq_length=30, batch_size=32, test=True)\n",
        "\n",
        "predictions_a = m1.predict(test_rtdata.test_data)\n",
        "predictions_a = predictions_a.ravel()\n",
        "\n",
        "test_targets_a = test_rtdata.get_split_targets(split=\"test\")"
      ],
      "execution_count": 80,
      "outputs": []
    },
    {
      "cell_type": "code",
      "metadata": {
        "colab": {
          "base_uri": "https://localhost:8080/"
        },
        "id": "qPkiF4agDeMA",
        "outputId": "78a49bb6-9645-4c0b-e597-0b8e7db1158d"
      },
      "source": [
        "report_a.calculate_r2(test_targets_a, predictions_a)"
      ],
      "execution_count": 81,
      "outputs": [
        {
          "output_type": "execute_result",
          "data": {
            "text/plain": [
              "0.4144109592276479"
            ]
          },
          "metadata": {},
          "execution_count": 81
        }
      ]
    },
    {
      "cell_type": "code",
      "metadata": {
        "id": "_RuUtvALYlaN",
        "colab": {
          "base_uri": "https://localhost:8080/",
          "height": 295
        },
        "outputId": "f8379bad-6eaa-4da8-d3ce-dddb05449f9e"
      },
      "source": [
        "report_a.plot_highlight_data_portion(test_targets_a, predictions_a)"
      ],
      "execution_count": 82,
      "outputs": [
        {
          "output_type": "display_data",
          "data": {
            "image/png": "[encoded data removed]",
            "text/plain": [
              "<Figure size 432x288 with 1 Axes>"
            ]
          },
          "metadata": {
            "needs_background": "light"
          }
        }
      ]
    },
    {
      "cell_type": "code",
      "metadata": {
        "id": "kljTXL0bYqJK",
        "colab": {
          "base_uri": "https://localhost:8080/",
          "height": 295
        },
        "outputId": "bb4cdcb5-276e-459c-bda6-a2730f591984"
      },
      "source": [
        "report_a.plot_residuals(test_targets_a, predictions_a, xrange=(-50, 50))"
      ],
      "execution_count": 83,
      "outputs": [
        {
          "output_type": "display_data",
          "data": {
            "image/png": "[encoded data removed]",
            "text/plain": [
              "<Figure size 432x288 with 1 Axes>"
            ]
          },
          "metadata": {
            "needs_background": "light"
          }
        }
      ]
    },
    {
      "cell_type": "markdown",
      "metadata": {
        "id": "uD46fmqpdfyt"
      },
      "source": [
        "#### Data Split B"
      ]
    },
    {
      "cell_type": "code",
      "metadata": {
        "id": "ZscBrGEFYsSh"
      },
      "source": [
        "test_rtdata_b = RetentionTimeDataset(data_source=TEST_DATAPATH_B,\n",
        "                              seq_length=30, batch_size=32, test=True)\n",
        "\n",
        "predictions_b = m2.predict(test_rtdata_b.test_data)\n",
        "predictions_b = predictions_b.ravel()\n",
        "\n",
        "test_targets_b = test_rtdata_b.get_split_targets(split=\"test\")"
      ],
      "execution_count": 89,
      "outputs": []
    },
    {
      "cell_type": "code",
      "metadata": {
        "colab": {
          "base_uri": "https://localhost:8080/"
        },
        "id": "pmD0JmJvGwXe",
        "outputId": "aa291e0f-6425-46a4-e848-1166d9586d11"
      },
      "source": [
        "report_b.calculate_r2(test_targets_b, predictions_b)"
      ],
      "execution_count": 90,
      "outputs": [
        {
          "output_type": "execute_result",
          "data": {
            "text/plain": [
              "-0.7411177579574866"
            ]
          },
          "metadata": {},
          "execution_count": 90
        }
      ]
    },
    {
      "cell_type": "code",
      "metadata": {
        "colab": {
          "base_uri": "https://localhost:8080/",
          "height": 295
        },
        "id": "npmTMAaXG9wV",
        "outputId": "e87b2ed5-194e-4f3d-a4ca-a5ad4789316f"
      },
      "source": [
        "report_b.plot_highlight_data_portion(test_targets_b, predictions_b)"
      ],
      "execution_count": 91,
      "outputs": [
        {
          "output_type": "display_data",
          "data": {
            "image/png": "[encoded data removed]",
            "text/plain": [
              "<Figure size 432x288 with 1 Axes>"
            ]
          },
          "metadata": {
            "needs_background": "light"
          }
        }
      ]
    },
    {
      "cell_type": "code",
      "metadata": {
        "colab": {
          "base_uri": "https://localhost:8080/",
          "height": 295
        },
        "id": "GurLa-YhG_DO",
        "outputId": "56b055bc-afdb-4352-ac01-51f954bdfa95"
      },
      "source": [
        "report_b.plot_residuals(test_targets_b, predictions_b, xrange=(-10, 30))"
      ],
      "execution_count": 92,
      "outputs": [
        {
          "output_type": "display_data",
          "data": {
            "image/png": "[encoded data removed]",
            "text/plain": [
              "<Figure size 432x288 with 1 Axes>"
            ]
          },
          "metadata": {
            "needs_background": "light"
          }
        }
      ]
    },
    {
      "cell_type": "markdown",
      "metadata": {
        "id": "KrOVbJtmnMdH"
      },
      "source": [
        "### C. Train/Test Splits\n",
        "\n",
        "We analyze the differences between the training and test data to understand why we have such discrepancies between accuracy on Val and test data."
      ]
    },
    {
      "cell_type": "code",
      "metadata": {
        "colab": {
          "base_uri": "https://localhost:8080/",
          "height": 297
        },
        "id": "7VrHqr1UE_O-",
        "outputId": "4b1792d7-16df-4ddc-8ef6-503adc97c94e"
      },
      "source": [
        "train_dataset_a = pd.read_csv(TRAIN_DATAPATH_A)\n",
        "train_dataset_a.describe()"
      ],
      "execution_count": 55,
      "outputs": [
        {
          "output_type": "execute_result",
          "data": {
            "text/html": [
              "<div>\n",
              "<style scoped>\n",
              "    .dataframe tbody tr th:only-of-type {\n",
              "        vertical-align: middle;\n",
              "    }\n",
              "\n",
              "    .dataframe tbody tr th {\n",
              "        vertical-align: top;\n",
              "    }\n",
              "\n",
              "    .dataframe thead th {\n",
              "        text-align: right;\n",
              "    }\n",
              "</style>\n",
              "<table border=\"1\" class=\"dataframe\">\n",
              "  <thead>\n",
              "    <tr style=\"text-align: right;\">\n",
              "      <th></th>\n",
              "      <th>irt</th>\n",
              "      <th>seq_len</th>\n",
              "    </tr>\n",
              "  </thead>\n",
              "  <tbody>\n",
              "    <tr>\n",
              "      <th>count</th>\n",
              "      <td>31778.000000</td>\n",
              "      <td>31778.000000</td>\n",
              "    </tr>\n",
              "    <tr>\n",
              "      <th>mean</th>\n",
              "      <td>57.636939</td>\n",
              "      <td>11.667946</td>\n",
              "    </tr>\n",
              "    <tr>\n",
              "      <th>std</th>\n",
              "      <td>44.707751</td>\n",
              "      <td>2.924570</td>\n",
              "    </tr>\n",
              "    <tr>\n",
              "      <th>min</th>\n",
              "      <td>-36.890830</td>\n",
              "      <td>7.000000</td>\n",
              "    </tr>\n",
              "    <tr>\n",
              "      <th>25%</th>\n",
              "      <td>21.924017</td>\n",
              "      <td>9.000000</td>\n",
              "    </tr>\n",
              "    <tr>\n",
              "      <th>50%</th>\n",
              "      <td>55.737805</td>\n",
              "      <td>11.000000</td>\n",
              "    </tr>\n",
              "    <tr>\n",
              "      <th>75%</th>\n",
              "      <td>90.146778</td>\n",
              "      <td>14.000000</td>\n",
              "    </tr>\n",
              "    <tr>\n",
              "      <th>max</th>\n",
              "      <td>171.850147</td>\n",
              "      <td>17.000000</td>\n",
              "    </tr>\n",
              "  </tbody>\n",
              "</table>\n",
              "</div>"
            ],
            "text/plain": [
              "                irt       seq_len\n",
              "count  31778.000000  31778.000000\n",
              "mean      57.636939     11.667946\n",
              "std       44.707751      2.924570\n",
              "min      -36.890830      7.000000\n",
              "25%       21.924017      9.000000\n",
              "50%       55.737805     11.000000\n",
              "75%       90.146778     14.000000\n",
              "max      171.850147     17.000000"
            ]
          },
          "metadata": {},
          "execution_count": 55
        }
      ]
    },
    {
      "cell_type": "code",
      "metadata": {
        "id": "s-q6IutFnZqo",
        "colab": {
          "base_uri": "https://localhost:8080/",
          "height": 297
        },
        "outputId": "1974a758-6fd6-4045-c15f-d2fd5aaef467"
      },
      "source": [
        "test_dataset_a = pd.read_csv(TEST_DATAPATH_A)\n",
        "test_dataset_a.describe()"
      ],
      "execution_count": 54,
      "outputs": [
        {
          "output_type": "execute_result",
          "data": {
            "text/html": [
              "<div>\n",
              "<style scoped>\n",
              "    .dataframe tbody tr th:only-of-type {\n",
              "        vertical-align: middle;\n",
              "    }\n",
              "\n",
              "    .dataframe tbody tr th {\n",
              "        vertical-align: top;\n",
              "    }\n",
              "\n",
              "    .dataframe thead th {\n",
              "        text-align: right;\n",
              "    }\n",
              "</style>\n",
              "<table border=\"1\" class=\"dataframe\">\n",
              "  <thead>\n",
              "    <tr style=\"text-align: right;\">\n",
              "      <th></th>\n",
              "      <th>irt</th>\n",
              "      <th>seq_len</th>\n",
              "    </tr>\n",
              "  </thead>\n",
              "  <tbody>\n",
              "    <tr>\n",
              "      <th>count</th>\n",
              "      <td>8222.000000</td>\n",
              "      <td>8222.000000</td>\n",
              "    </tr>\n",
              "    <tr>\n",
              "      <th>mean</th>\n",
              "      <td>82.981177</td>\n",
              "      <td>21.441863</td>\n",
              "    </tr>\n",
              "    <tr>\n",
              "      <th>std</th>\n",
              "      <td>45.119653</td>\n",
              "      <td>3.505564</td>\n",
              "    </tr>\n",
              "    <tr>\n",
              "      <th>min</th>\n",
              "      <td>-37.397545</td>\n",
              "      <td>18.000000</td>\n",
              "    </tr>\n",
              "    <tr>\n",
              "      <th>25%</th>\n",
              "      <td>51.023020</td>\n",
              "      <td>19.000000</td>\n",
              "    </tr>\n",
              "    <tr>\n",
              "      <th>50%</th>\n",
              "      <td>86.041729</td>\n",
              "      <td>20.000000</td>\n",
              "    </tr>\n",
              "    <tr>\n",
              "      <th>75%</th>\n",
              "      <td>117.041110</td>\n",
              "      <td>23.000000</td>\n",
              "    </tr>\n",
              "    <tr>\n",
              "      <th>max</th>\n",
              "      <td>172.007471</td>\n",
              "      <td>40.000000</td>\n",
              "    </tr>\n",
              "  </tbody>\n",
              "</table>\n",
              "</div>"
            ],
            "text/plain": [
              "               irt      seq_len\n",
              "count  8222.000000  8222.000000\n",
              "mean     82.981177    21.441863\n",
              "std      45.119653     3.505564\n",
              "min     -37.397545    18.000000\n",
              "25%      51.023020    19.000000\n",
              "50%      86.041729    20.000000\n",
              "75%     117.041110    23.000000\n",
              "max     172.007471    40.000000"
            ]
          },
          "metadata": {},
          "execution_count": 54
        }
      ]
    },
    {
      "cell_type": "code",
      "metadata": {
        "colab": {
          "base_uri": "https://localhost:8080/",
          "height": 297
        },
        "id": "SeK2db0OFE5t",
        "outputId": "b165b283-26ab-425c-8d90-7d9aab6b6f18"
      },
      "source": [
        "train_dataset_b = pd.read_csv(TRAIN_DATAPATH_B)\n",
        "train_dataset_b.describe()"
      ],
      "execution_count": 56,
      "outputs": [
        {
          "output_type": "execute_result",
          "data": {
            "text/html": [
              "<div>\n",
              "<style scoped>\n",
              "    .dataframe tbody tr th:only-of-type {\n",
              "        vertical-align: middle;\n",
              "    }\n",
              "\n",
              "    .dataframe tbody tr th {\n",
              "        vertical-align: top;\n",
              "    }\n",
              "\n",
              "    .dataframe thead th {\n",
              "        text-align: right;\n",
              "    }\n",
              "</style>\n",
              "<table border=\"1\" class=\"dataframe\">\n",
              "  <thead>\n",
              "    <tr style=\"text-align: right;\">\n",
              "      <th></th>\n",
              "      <th>irt</th>\n",
              "      <th>seq_len</th>\n",
              "    </tr>\n",
              "  </thead>\n",
              "  <tbody>\n",
              "    <tr>\n",
              "      <th>count</th>\n",
              "      <td>31232.000000</td>\n",
              "      <td>31232.000000</td>\n",
              "    </tr>\n",
              "    <tr>\n",
              "      <th>mean</th>\n",
              "      <td>44.922545</td>\n",
              "      <td>13.025134</td>\n",
              "    </tr>\n",
              "    <tr>\n",
              "      <th>std</th>\n",
              "      <td>33.907428</td>\n",
              "      <td>4.737573</td>\n",
              "    </tr>\n",
              "    <tr>\n",
              "      <th>min</th>\n",
              "      <td>-37.397545</td>\n",
              "      <td>7.000000</td>\n",
              "    </tr>\n",
              "    <tr>\n",
              "      <th>25%</th>\n",
              "      <td>17.815422</td>\n",
              "      <td>9.000000</td>\n",
              "    </tr>\n",
              "    <tr>\n",
              "      <th>50%</th>\n",
              "      <td>47.004431</td>\n",
              "      <td>12.000000</td>\n",
              "    </tr>\n",
              "    <tr>\n",
              "      <th>75%</th>\n",
              "      <td>73.646519</td>\n",
              "      <td>16.000000</td>\n",
              "    </tr>\n",
              "    <tr>\n",
              "      <th>max</th>\n",
              "      <td>101.999119</td>\n",
              "      <td>40.000000</td>\n",
              "    </tr>\n",
              "  </tbody>\n",
              "</table>\n",
              "</div>"
            ],
            "text/plain": [
              "                irt       seq_len\n",
              "count  31232.000000  31232.000000\n",
              "mean      44.922545     13.025134\n",
              "std       33.907428      4.737573\n",
              "min      -37.397545      7.000000\n",
              "25%       17.815422      9.000000\n",
              "50%       47.004431     12.000000\n",
              "75%       73.646519     16.000000\n",
              "max      101.999119     40.000000"
            ]
          },
          "metadata": {},
          "execution_count": 56
        }
      ]
    },
    {
      "cell_type": "code",
      "metadata": {
        "colab": {
          "base_uri": "https://localhost:8080/",
          "height": 297
        },
        "id": "fmJ9qtCnFE_7",
        "outputId": "43d51f03-4348-4b78-ca05-4d0124d989e8"
      },
      "source": [
        "test_dataset_b = pd.read_csv(TEST_DATAPATH_B)\n",
        "test_dataset_b.describe()"
      ],
      "execution_count": 57,
      "outputs": [
        {
          "output_type": "execute_result",
          "data": {
            "text/html": [
              "<div>\n",
              "<style scoped>\n",
              "    .dataframe tbody tr th:only-of-type {\n",
              "        vertical-align: middle;\n",
              "    }\n",
              "\n",
              "    .dataframe tbody tr th {\n",
              "        vertical-align: top;\n",
              "    }\n",
              "\n",
              "    .dataframe thead th {\n",
              "        text-align: right;\n",
              "    }\n",
              "</style>\n",
              "<table border=\"1\" class=\"dataframe\">\n",
              "  <thead>\n",
              "    <tr style=\"text-align: right;\">\n",
              "      <th></th>\n",
              "      <th>irt</th>\n",
              "      <th>seq_len</th>\n",
              "    </tr>\n",
              "  </thead>\n",
              "  <tbody>\n",
              "    <tr>\n",
              "      <th>count</th>\n",
              "      <td>8768.000000</td>\n",
              "      <td>8768.000000</td>\n",
              "    </tr>\n",
              "    <tr>\n",
              "      <th>mean</th>\n",
              "      <td>126.692173</td>\n",
              "      <td>15.998859</td>\n",
              "    </tr>\n",
              "    <tr>\n",
              "      <th>std</th>\n",
              "      <td>17.762008</td>\n",
              "      <td>5.180752</td>\n",
              "    </tr>\n",
              "    <tr>\n",
              "      <th>min</th>\n",
              "      <td>102.002341</td>\n",
              "      <td>7.000000</td>\n",
              "    </tr>\n",
              "    <tr>\n",
              "      <th>25%</th>\n",
              "      <td>111.688477</td>\n",
              "      <td>12.000000</td>\n",
              "    </tr>\n",
              "    <tr>\n",
              "      <th>50%</th>\n",
              "      <td>123.381815</td>\n",
              "      <td>15.000000</td>\n",
              "    </tr>\n",
              "    <tr>\n",
              "      <th>75%</th>\n",
              "      <td>139.040436</td>\n",
              "      <td>19.000000</td>\n",
              "    </tr>\n",
              "    <tr>\n",
              "      <th>max</th>\n",
              "      <td>172.007471</td>\n",
              "      <td>40.000000</td>\n",
              "    </tr>\n",
              "  </tbody>\n",
              "</table>\n",
              "</div>"
            ],
            "text/plain": [
              "               irt      seq_len\n",
              "count  8768.000000  8768.000000\n",
              "mean    126.692173    15.998859\n",
              "std      17.762008     5.180752\n",
              "min     102.002341     7.000000\n",
              "25%     111.688477    12.000000\n",
              "50%     123.381815    15.000000\n",
              "75%     139.040436    19.000000\n",
              "max     172.007471    40.000000"
            ]
          },
          "metadata": {},
          "execution_count": 57
        }
      ]
    },
    {
      "cell_type": "markdown",
      "metadata": {
        "id": "ymmT-mc8cmMU"
      },
      "source": [
        "## 3. Conclusion\n",
        "\n"
      ]
    },
    {
      "cell_type": "markdown",
      "metadata": {
        "id": "e_LI1_qKgDq6"
      },
      "source": [
        "While We didn't change anything in the model here we wanted to highlight that data splits also makes a difference. We Can see this in our predictions and how heavily skewed it is towards the training data.\n",
        "\n",
        "#### Split A:\n",
        "\n",
        "When we analyze our data you can see that in Split A data were split in such a way that shorter peptides are in training and longer peptides are in test which makes it harder for the model to predict unseen peptides with much longer sequences.\n",
        "\n",
        "\n",
        "#### Split B:\n",
        "\n",
        "Here we split our data based on iRT values where we have the peptides with lower iRTs in the training and ones with higher iRTs in the testing dataset.\n",
        "\n",
        "What we want to highlight here is that even when we split the data on features (eg. peptide length) other than the feature which we predict (iRT), it can affect our results also.\n",
        "That's why when splitting data we should ensure that our train data are homogenous and include all different type of classes we have and not favoring one class over another."
      ]
    }
  ]
}